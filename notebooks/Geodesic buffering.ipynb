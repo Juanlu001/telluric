{
 "cells": [
  {
   "cell_type": "markdown",
   "metadata": {},
   "source": [
    "Links:\n",
    "\n",
    "* http://www.esri.com/news/arcuser/0111/geodesic.html\n",
    "* https://stackoverflow.com/a/38660915/554319\n",
    "* https://stackoverflow.com/a/38707971/554319\n",
    "* https://www.wikiwand.com/en/Mercator_projection#/Truncation_and_aspect_ratio\n",
    "* https://www.wikiwand.com/en/Azimuthal_equidistant_projection\n",
    "* https://github.com/jwass/geog\n",
    "* https://shapely.readthedocs.io/en/latest/manual.html#shapely.ops.split"
   ]
  },
  {
   "cell_type": "code",
   "execution_count": 2,
   "metadata": {},
   "outputs": [],
   "source": [
    "import telluric as tl\n",
    "from telluric.constants import *\n",
    "from telluric.plotting import map_from_element\n",
    "\n",
    "from telluric.plotting import simple_plot"
   ]
  },
  {
   "cell_type": "code",
   "execution_count": 3,
   "metadata": {},
   "outputs": [],
   "source": [
    "from telluric.util.antimeridian import *"
   ]
  },
  {
   "cell_type": "code",
   "execution_count": 3,
   "metadata": {},
   "outputs": [],
   "source": [
    "gv_longer = tl.GeoVector.from_bounds(19_000_000, 0, 21_000_000, 50_000, WEB_MERCATOR_CRS)"
   ]
  },
  {
   "cell_type": "code",
   "execution_count": 4,
   "metadata": {},
   "outputs": [
    {
     "name": "stdout",
     "output_type": "stream",
     "text": [
      "POLYGON ((18999999 -1, 21000001 -1, 21000001 50001, 18999999 50001, 18999999 -1))\n"
     ]
    }
   ],
   "source": [
    "print(gv_longer.buffer(1.0).envelope._shape)"
   ]
  },
  {
   "cell_type": "code",
   "execution_count": 103,
   "metadata": {},
   "outputs": [],
   "source": [
    "NP = GeoVector.point(0, 90)\n",
    "SP = GeoVector.point(0, -90)"
   ]
  },
  {
   "cell_type": "code",
   "execution_count": 110,
   "metadata": {},
   "outputs": [],
   "source": [
    "p_center = GeoVector.point(0, 80)"
   ]
  },
  {
   "cell_type": "code",
   "execution_count": 111,
   "metadata": {},
   "outputs": [
    {
     "name": "stdout",
     "output_type": "stream",
     "text": [
      "POINT (0 80)\n"
     ]
    }
   ],
   "source": [
    "print(p_center._shape)"
   ]
  },
  {
   "cell_type": "code",
   "execution_count": 112,
   "metadata": {},
   "outputs": [
    {
     "data": {
      "text/plain": [
       "CRS({'units': 'm', 'proj': 'aeqd', 'ellps': 'WGS84', 'datum': 'WGS84', 'lat_0': 80.0, 'lon_0': 0.0})"
      ]
     },
     "execution_count": 112,
     "metadata": {},
     "output_type": "execute_result"
    }
   ],
   "source": [
    "aeqd_crs = azimuthal_from_geometry(p_center)\n",
    "aeqd_crs"
   ]
  },
  {
   "cell_type": "code",
   "execution_count": 113,
   "metadata": {},
   "outputs": [
    {
     "name": "stdout",
     "output_type": "stream",
     "text": [
      "POINT (0 1116825.85737585)\n"
     ]
    }
   ],
   "source": [
    "print(NP.reproject(aeqd_crs)._shape)"
   ]
  },
  {
   "cell_type": "code",
   "execution_count": 114,
   "metadata": {},
   "outputs": [
    {
     "name": "stdout",
     "output_type": "stream",
     "text": [
      "POINT (-2.313003341972836e-09 -18887105.60124959)\n"
     ]
    }
   ],
   "source": [
    "print(SP.reproject(aeqd_crs)._shape)"
   ]
  },
  {
   "cell_type": "code",
   "execution_count": 90,
   "metadata": {},
   "outputs": [
    {
     "data": {
      "text/plain": [
       "CRS({'units': 'm', 'proj': 'aeqd', 'ellps': 'WGS84', 'datum': 'WGS84', 'lat_0': 80.0, 'lon_0': 170.0})"
      ]
     },
     "execution_count": 90,
     "metadata": {},
     "output_type": "execute_result"
    }
   ],
   "source": [
    "aeqd_crs"
   ]
  },
  {
   "cell_type": "code",
   "execution_count": 5,
   "metadata": {},
   "outputs": [
    {
     "name": "stderr",
     "output_type": "stream",
     "text": [
      "/home/juanlu/Satellogic/telluric-team/telluric/telluric/plotting.py:157: UserWarning: Plotting a limited representation of the data, use the .plot() method for further customization\n",
      "  \"Plotting a limited representation of the data, use the .plot() method for further customization\")\n"
     ]
    },
    {
     "data": {
      "image/svg+xml": [
       "<svg xmlns=\"http://www.w3.org/2000/svg\" xmlns:xlink=\"http://www.w3.org/1999/xlink\" width=\"300\" height=\"300\" viewBox=\"-21640509.010212384 -2603000.6674231393 43281018.02042477 5256001.334846279\" preserveAspectRatio=\"xMinYMin meet\"><g transform=\"matrix(1,0,0,-1,0,50000.0)\"><g><path fill-rule=\"evenodd\" fill=\"#66cc99\" stroke=\"#555555\" stroke-width=\"288540.1201361651\" opacity=\"0.6\" d=\"M 19000000.0,-1000000.0 L 18901982.859670434,-995184.7266721963 L 18804909.677983865,-980785.2804032293 L 18709715.32274553,-956940.3357322073 L 18617316.567634907,-923879.5325112848 L 18528603.263173997,-881921.2643483528 L 18444429.766980395,-831469.6123025428 L 18365606.715836354,-773010.453362735 L 18292893.21881345,-707106.7811865453 L 18226989.54663726,-634393.2841636433 L 18168530.387697455,-555570.2330196 L 18118078.735651642,-471396.7368259957 L 18076120.467488714,-382683.432365088 L 18043059.66426779,-290284.6772544608 L 18019214.71959677,-195090.32201612706 L 18004815.2733278,-98017.1403295597 L 18000000.0,0.0 L 18000000.0,50000.0 L 18004815.273327805,148017.14032956085 L 18019214.71959677,245090.3220161286 L 18043059.66426779,340284.6772544624 L 18076120.467488714,432683.4323650899 L 18118078.735651646,521396.7368259979 L 18168530.387697455,605570.2330196021 L 18226989.546637263,684393.2841636455 L 18292893.218813453,757106.7811865476 L 18365606.715836354,823010.4533627371 L 18444429.7669804,881469.6123025455 L 18528603.263174,931921.264348355 L 18617316.56763491,973879.5325112868 L 18709715.32274554,1006940.3357322089 L 18804909.677983873,1030785.2804032306 L 18901982.85967044,1045184.7266721969 L 19000000.0,1050000.0 L 20037508.342789244,1050000.0 L 20037508.342789244,-1000000.0 L 19000000.0,-1000000.0 z\" /><path fill-rule=\"evenodd\" fill=\"#66cc99\" stroke=\"#555555\" stroke-width=\"288540.1201361651\" opacity=\"0.6\" d=\"M -20037508.342789244,1050000.0 L -19075016.685578488,1050000.0 L -18976999.545248926,1045184.7266721968 L -18879926.36356236,1030785.2804032305 L -18784732.008324027,1006940.3357322089 L -18692333.2532134,973879.5325112868 L -18603619.94875249,931921.2643483549 L -18519446.452558886,881469.6123025452 L -18440623.40141484,823010.453362737 L -18367909.90439194,757106.7811865475 L -18302006.23221575,684393.2841636455 L -18243547.073275942,605570.2330196021 L -18193095.421230134,521396.73682599777 L -18151137.1530672,432683.4323650898 L -18118076.349846277,340284.67725446227 L -18094231.405175257,245090.32201612805 L -18079831.95890629,148017.14032956026 L -18075016.685578488,50000.0 L -18075016.685578488,0.0 L -18079831.95890629,-98017.1403295606 L -18094231.405175257,-195090.32201612825 L -18118076.349846277,-290284.6772544623 L -18151137.1530672,-382683.4323650898 L -18193095.421230134,-471396.73682599765 L -18243547.073275942,-555570.2330196021 L -18302006.23221575,-634393.2841636455 L -18367909.90439194,-707106.7811865475 L -18440623.40141484,-773010.453362737 L -18519446.452558886,-831469.6123025452 L -18603619.94875249,-881921.2643483549 L -18692333.2532134,-923879.5325112868 L -18784732.008324027,-956940.3357322089 L -18879926.36356236,-980785.2804032305 L -18976999.545248926,-995184.7266721969 L -19075016.685578488,-1000000.0 L -20037508.342789244,-1000000.0 L -20037508.342789244,1050000.0 z\" /></g></g></svg>"
      ],
      "text/html": [
       "<div style=\"width:100%;\"><div style=\"position:relative;width:100%;height:0;padding-bottom:60%;\"><iframe src=\"data:text/html;charset=utf-8;base64,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\" style=\"position:absolute;width:100%;height:100%;left:0;top:0;border:none !important;\" allowfullscreen webkitallowfullscreen mozallowfullscreen></iframe></div></div>"
      ],
      "text/plain": [
       "GeoVector(shape=GEOMETRYCOLLECTION (POLYGON ((19000000 -1000000, 18901982.85967043 -995184.7266721963, 18804909.67798387 -980785.2804032293, 18709715.32274553 -956940.3357322073, 18617316.56763491 -923879.5325112848, 18528603.263174 -881921.2643483528, 18444429.76698039 -831469.6123025428, 18365606.71583635 -773010.453362735, 18292893.21881345 -707106.7811865453, 18226989.54663726 -634393.2841636433, 18168530.38769745 -555570.2330196, 18118078.73565164 -471396.7368259957, 18076120.46748871 -382683.432365088, 18043059.66426779 -290284.6772544608, 18019214.71959677 -195090.3220161271, 18004815.2733278 -98017.1403295597, 18000000 0, 18000000 50000, 18004815.27332781 148017.1403295608, 18019214.71959677 245090.3220161286, 18043059.66426779 340284.6772544624, 18076120.46748871 432683.4323650899, 18118078.73565165 521396.7368259979, 18168530.38769745 605570.2330196021, 18226989.54663726 684393.2841636455, 18292893.21881345 757106.7811865476, 18365606.71583635 823010.4533627371, 18444429.7669804 881469.6123025455, 18528603.263174 931921.264348355, 18617316.56763491 973879.5325112868, 18709715.32274554 1006940.335732209, 18804909.67798387 1030785.280403231, 18901982.85967044 1045184.726672197, 19000000 1050000, 20037508.34278924 1050000, 20037508.34278924 -1000000, 19000000 -1000000)), POLYGON ((-20037508.34278924 1050000, -19075016.68557849 1050000, -18976999.54524893 1045184.726672197, -18879926.36356236 1030785.28040323, -18784732.00832403 1006940.335732209, -18692333.2532134 973879.5325112868, -18603619.94875249 931921.2643483549, -18519446.45255889 881469.6123025452, -18440623.40141484 823010.453362737, -18367909.90439194 757106.7811865475, -18302006.23221575 684393.2841636455, -18243547.07327594 605570.2330196021, -18193095.42123013 521396.7368259978, -18151137.1530672 432683.4323650898, -18118076.34984628 340284.6772544623, -18094231.40517526 245090.322016128, -18079831.95890629 148017.1403295603, -18075016.68557849 50000, -18075016.68557849 0, -18079831.95890629 -98017.1403295606, -18094231.40517526 -195090.3220161283, -18118076.34984628 -290284.6772544623, -18151137.1530672 -382683.4323650898, -18193095.42123013 -471396.7368259977, -18243547.07327594 -555570.2330196021, -18302006.23221575 -634393.2841636455, -18367909.90439194 -707106.7811865475, -18440623.40141484 -773010.453362737, -18519446.45255889 -831469.6123025452, -18603619.94875249 -881921.2643483549, -18692333.2532134 -923879.5325112868, -18784732.00832403 -956940.3357322089, -18879926.36356236 -980785.2804032305, -18976999.54524893 -995184.7266721969, -19075016.68557849 -1000000, -20037508.34278924 -1000000, -20037508.34278924 1050000))), crs=+init=epsg:3857 +no_defs)"
      ]
     },
     "execution_count": 5,
     "metadata": {},
     "output_type": "execute_result"
    }
   ],
   "source": [
    "cut_by_antimeridian(gv_longer.buffer(1000000.0))"
   ]
  },
  {
   "cell_type": "code",
   "execution_count": 9,
   "metadata": {},
   "outputs": [
    {
     "name": "stdout",
     "output_type": "stream",
     "text": [
      "POLYGON ((20037508.34278924 50000, 21000000 50000, 21000000 0, 20037508.34278924 0, 20037508.34278924 50000))\n"
     ]
    }
   ],
   "source": [
    "print(to_off)"
   ]
  },
  {
   "cell_type": "code",
   "execution_count": 12,
   "metadata": {},
   "outputs": [
    {
     "name": "stderr",
     "output_type": "stream",
     "text": [
      "/home/juanlu/Satellogic/telluric-team/telluric/telluric/plotting.py:157: UserWarning: Plotting a limited representation of the data, use the .plot() method for further customization\n",
      "  \"Plotting a limited representation of the data, use the .plot() method for further customization\")\n"
     ]
    },
    {
     "data": {
      "image/svg+xml": [
       "<svg xmlns=\"http://www.w3.org/2000/svg\" xmlns:xlink=\"http://www.w3.org/1999/xlink\" width=\"300\" height=\"300\" viewBox=\"-20076008.009077676 -38499.66628843024 1039490.9897876196 126999.3325768605\" preserveAspectRatio=\"xMinYMin meet\"><g transform=\"matrix(1,0,0,-1,0,50000.00000000001)\"><path fill-rule=\"evenodd\" fill=\"#66cc99\" stroke=\"#555555\" stroke-width=\"6929.939931917464\" opacity=\"0.6\" d=\"M -20037508.342789244,50000.0 L -19075016.685578488,50000.0 L -19075016.685578488,0.0 L -20037508.342789244,0.0 L -20037508.342789244,50000.0 z\" /></g></svg>"
      ],
      "text/html": [
       "<div style=\"width:100%;\"><div style=\"position:relative;width:100%;height:0;padding-bottom:60%;\"><iframe src=\"data:text/html;charset=utf-8;base64,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\" style=\"position:absolute;width:100%;height:100%;left:0;top:0;border:none !important;\" allowfullscreen webkitallowfullscreen mozallowfullscreen></iframe></div></div>"
      ],
      "text/plain": [
       "GeoVector(shape=POLYGON ((-20037508.34278924 50000, -19075016.68557849 50000, -19075016.68557849 0, -20037508.34278924 0, -20037508.34278924 50000)), crs=+init=epsg:3857 +no_defs)"
      ]
     },
     "execution_count": 12,
     "metadata": {},
     "output_type": "execute_result"
    }
   ],
   "source": [
    "GeoVector(offset_shape(to_off), WEB_MERCATOR_CRS)"
   ]
  },
  {
   "cell_type": "code",
   "execution_count": 54,
   "metadata": {},
   "outputs": [],
   "source": [
    "res = split(gv._shape, ANTIMERIDIAN._shape)"
   ]
  },
  {
   "cell_type": "code",
   "execution_count": 70,
   "metadata": {},
   "outputs": [],
   "source": [
    "ANTIMERIDIAN_s = tl.GeoVector.line(((180, -89.999), (180, 89.999)))"
   ]
  },
  {
   "cell_type": "code",
   "execution_count": 71,
   "metadata": {},
   "outputs": [
    {
     "name": "stdout",
     "output_type": "stream",
     "text": [
      "LINESTRING (20037508.34278924 -74299743.40057556, 20037508.34278924 74299743.40061197)\n"
     ]
    }
   ],
   "source": [
    "print(ANTIMERIDIAN_s.get_shape(gv.crs))"
   ]
  },
  {
   "cell_type": "code",
   "execution_count": 80,
   "metadata": {},
   "outputs": [
    {
     "name": "stderr",
     "output_type": "stream",
     "text": [
      "/home/juanlu/Satellogic/telluric-team/telluric/telluric/plotting.py:157: UserWarning: Plotting a limited representation of the data, use the .plot() method for further customization\n",
      "  \"Plotting a limited representation of the data, use the .plot() method for further customization\")\n"
     ]
    },
    {
     "data": {
      "image/svg+xml": [
       "<svg xmlns=\"http://www.w3.org/2000/svg\" xmlns:xlink=\"http://www.w3.org/1999/xlink\" width=\"300\" height=\"208.8\" viewBox=\"-194.4 -104.4 388.8 208.8\" preserveAspectRatio=\"xMinYMin meet\"><g transform=\"matrix(1,0,0,-1,0,0.0)\"><path fill-rule=\"evenodd\" fill=\"#66cc99\" stroke=\"#555555\" stroke-width=\"2.592\" opacity=\"0.6\" d=\"M -180.0,-90.0 L -180.0,90.0 L 180.0,90.0 L 180.0,-90.0 L -180.0,-90.0 z\" /></g></svg>"
      ],
      "text/html": [
       "<div style=\"width:100%;\"><div style=\"position:relative;width:100%;height:0;padding-bottom:60%;\"><iframe src=\"data:text/html;charset=utf-8;base64,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\" style=\"position:absolute;width:100%;height:100%;left:0;top:0;border:none !important;\" allowfullscreen webkitallowfullscreen mozallowfullscreen></iframe></div></div>"
      ],
      "text/plain": [
       "GeoVector(shape=POLYGON ((-180 -90, -180 90, 180 90, 180 -90, -180 -90)), crs=+init=epsg:4326 +no_defs)"
      ]
     },
     "execution_count": 80,
     "metadata": {},
     "output_type": "execute_result"
    }
   ],
   "source": [
    "WORLD_BOUNDS"
   ]
  },
  {
   "cell_type": "code",
   "execution_count": 55,
   "metadata": {},
   "outputs": [
    {
     "name": "stdout",
     "output_type": "stream",
     "text": [
      "GEOMETRYCOLLECTION (POLYGON ((19000000 0, 19000000 50000, 20000000 50000, 20000000 0, 19000000 0)))\n"
     ]
    }
   ],
   "source": [
    "print(res)"
   ]
  },
  {
   "cell_type": "code",
   "execution_count": 61,
   "metadata": {},
   "outputs": [],
   "source": [
    "gv_longer = tl.GeoVector.from_bounds(19_000_000, 0, 21_000_000, 50_000, WEB_MERCATOR_CRS)"
   ]
  },
  {
   "cell_type": "code",
   "execution_count": 72,
   "metadata": {},
   "outputs": [],
   "source": [
    "res_l = split(gv_longer._shape, ANTIMERIDIAN_s.get_shape(WEB_MERCATOR_CRS))"
   ]
  },
  {
   "cell_type": "code",
   "execution_count": 73,
   "metadata": {},
   "outputs": [
    {
     "name": "stdout",
     "output_type": "stream",
     "text": [
      "GEOMETRYCOLLECTION (POLYGON ((19000000 0, 19000000 50000, 20037508.34278924 50000, 20037508.34278924 0, 19000000 0)), POLYGON ((20037508.34278924 50000, 21000000 50000, 21000000 0, 20037508.34278924 0, 20037508.34278924 50000)))\n"
     ]
    }
   ],
   "source": [
    "print(res_l)"
   ]
  },
  {
   "cell_type": "code",
   "execution_count": 77,
   "metadata": {},
   "outputs": [
    {
     "name": "stdout",
     "output_type": "stream",
     "text": [
      "POLYGON ((19000000 0, 19000000 50000, 20037508.34278924 50000, 20037508.34278924 0, 19000000 0))\n"
     ]
    }
   ],
   "source": [
    "print(res_l[0])"
   ]
  },
  {
   "cell_type": "code",
   "execution_count": 74,
   "metadata": {},
   "outputs": [
    {
     "data": {
      "text/plain": [
       "2"
      ]
     },
     "execution_count": 74,
     "metadata": {},
     "output_type": "execute_result"
    }
   ],
   "source": [
    "len(res_l)"
   ]
  },
  {
   "cell_type": "code",
   "execution_count": 128,
   "metadata": {},
   "outputs": [
    {
     "data": {
      "text/plain": [
       "40075016.68557849"
      ]
     },
     "execution_count": 128,
     "metadata": {},
     "output_type": "execute_result"
    }
   ],
   "source": [
    "MERCATOR_WIDTH"
   ]
  },
  {
   "cell_type": "code",
   "execution_count": 129,
   "metadata": {},
   "outputs": [],
   "source": [
    "aeqd_equator = CRS({'units': 'm', 'proj': 'aeqd', 'ellps': 'WGS84', 'datum': 'WGS84', 'lat_0': 0, 'lon_0': 0})"
   ]
  },
  {
   "cell_type": "code",
   "execution_count": 166,
   "metadata": {},
   "outputs": [
    {
     "name": "stdout",
     "output_type": "stream",
     "text": [
      "POINT (0 -20003931.45862726)\n"
     ]
    }
   ],
   "source": [
    "print(tl.GeoVector.point(0, -90).reproject(aeqd_polar)._shape)"
   ]
  },
  {
   "cell_type": "code",
   "execution_count": 163,
   "metadata": {},
   "outputs": [
    {
     "name": "stdout",
     "output_type": "stream",
     "text": [
      "POINT (0 20003931.45862545)\n"
     ]
    }
   ],
   "source": [
    "print(tl.GeoVector.point(180, 0).reproject(aeqd_equator)._shape)"
   ]
  },
  {
   "cell_type": "code",
   "execution_count": 157,
   "metadata": {},
   "outputs": [
    {
     "data": {
      "image/svg+xml": [
       "<svg xmlns=\"http://www.w3.org/2000/svg\" xmlns:xlink=\"http://www.w3.org/1999/xlink\" width=\"300\" height=\"300\" viewBox=\"-10800000.0 -10800000.0 21600000.0 21600000.0\" preserveAspectRatio=\"xMinYMin meet\"><g transform=\"matrix(1,0,0,-1,0,0.0)\"><path fill-rule=\"evenodd\" fill=\"#66cc99\" stroke=\"#555555\" stroke-width=\"144000.0\" opacity=\"0.6\" d=\"M 10000000.0,0.0 L 9951847.26672197,-980171.4032956051 L 9807852.804032305,-1950903.2201612808 L 9569403.35732209,-2902846.772544621 L 9238795.32511287,-3826834.3236508938 L 8819212.643483553,-4713967.368259972 L 8314696.1230254555,-5555702.330196017 L 7730104.533627374,-6343932.841636449 L 7071067.811865482,-7071067.811865469 L 6343932.841636463,-7730104.533627363 L 5555702.33019603,-8314696.123025447 L 4713967.368259986,-8819212.643483546 L 3826834.323650908,-9238795.325112863 L 2902846.772544636,-9569403.357322086 L 1950903.2201612964,-9807852.804032302 L 980171.4032956209,-9951847.266721968 L 1.615544574432587e-08,-10000000.0 L -980171.4032955888,-9951847.26672197 L -1950903.2201612648,-9807852.804032307 L -2902846.772544605,-9569403.357322093 L -3826834.3236508784,-9238795.325112876 L -4713967.368259957,-8819212.64348356 L -5555702.330196005,-8314696.123025464 L -6343932.84163644,-7730104.5336273825 L -7071067.811865462,-7071067.811865488 L -7730104.533627359,-6343932.841636469 L -8314696.123025443,-5555702.330196036 L -8819212.643483542,-4713967.368259991 L -9238795.325112863,-3826834.323650911 L -9569403.357322086,-2902846.772544637 L -9807852.804032302,-1950903.2201612948 L -9951847.266721968,-980171.4032956171 L -10000000.0,-1.0106430996148605e-08 L -9951847.26672197,980171.4032955971 L -9807852.804032307,1950903.220161275 L -9569403.357322091,2902846.7725446173 L -9238795.32511287,3826834.3236508924 L -8819212.643483553,4713967.368259973 L -8314696.123025455,5555702.330196019 L -7730104.533627371,6343932.841636453 L -7071067.811865477,7071067.811865475 L -6343932.841636459,7730104.533627367 L -5555702.3301960295,8314696.123025448 L -4713967.368259987,8819212.643483546 L -3826834.323650912,9238795.325112863 L -2902846.772544641,9569403.357322084 L -1950903.220161304,9807852.8040323 L -980171.403295631,9951847.266721966 L -2.848232278972479e-08,10000000.0 L 980171.4032955742,9951847.266721971 L 1950903.220161248,9807852.80403231 L 2902846.7725445866,9569403.357322099 L 3826834.323650859,9238795.325112885 L 4713967.368259937,8819212.643483572 L 5555702.330195982,8314696.123025479 L 6343932.841636415,7730104.533627402 L 7071067.811865436,7071067.811865514 L 7730104.533627332,6343932.8416365 L 8314696.123025418,5555702.330196074 L 8819212.64348352,4713967.368260034 L 9238795.32511284,3826834.3236509617 L 9569403.357322067,2902846.7725446927 L 9807852.80403229,1950903.220161357 L 9951847.266721962,980171.4032956847 L 10000000.0,8.238535137130598e-08 L 10000000.0,0.0 z\" /></g></svg>"
      ],
      "text/html": [
       "<div style=\"width:100%;\"><div style=\"position:relative;width:100%;height:0;padding-bottom:60%;\"><iframe src=\"data:text/html;charset=utf-8;base64,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\" style=\"position:absolute;width:100%;height:100%;left:0;top:0;border:none !important;\" allowfullscreen webkitallowfullscreen mozallowfullscreen></iframe></div></div>"
      ],
      "text/plain": [
       "GeoVector(shape=POLYGON ((10000000 0, 9951847.266721969 -980171.4032956051, 9807852.804032305 -1950903.220161281, 9569403.357322089 -2902846.772544621, 9238795.32511287 -3826834.323650894, 8819212.643483553 -4713967.368259972, 8314696.123025456 -5555702.330196017, 7730104.533627374 -6343932.841636449, 7071067.811865482 -7071067.811865469, 6343932.841636463 -7730104.533627363, 5555702.33019603 -8314696.123025447, 4713967.368259986 -8819212.643483546, 3826834.323650908 -9238795.325112863, 2902846.772544636 -9569403.357322086, 1950903.220161296 -9807852.804032302, 980171.4032956209 -9951847.266721968, 1.615544574432587e-08 -10000000, -980171.4032955888 -9951847.266721969, -1950903.220161265 -9807852.804032307, -2902846.772544605 -9569403.357322093, -3826834.323650878 -9238795.325112876, -4713967.368259957 -8819212.643483561, -5555702.330196005 -8314696.123025464, -6343932.84163644 -7730104.533627382, -7071067.811865462 -7071067.811865488, -7730104.533627359 -6343932.841636469, -8314696.123025443 -5555702.330196036, -8819212.643483542 -4713967.368259991, -9238795.325112863 -3826834.323650911, -9569403.357322086 -2902846.772544637, -9807852.804032302 -1950903.220161295, -9951847.266721968 -980171.4032956171, -10000000 -1.010643099614861e-08, -9951847.266721969 980171.4032955971, -9807852.804032307 1950903.220161275, -9569403.357322091 2902846.772544617, -9238795.32511287 3826834.323650892, -8819212.643483553 4713967.368259973, -8314696.123025455 5555702.330196019, -7730104.533627371 6343932.841636453, -7071067.811865477 7071067.811865475, -6343932.841636459 7730104.533627367, -5555702.33019603 8314696.123025448, -4713967.368259987 8819212.643483546, -3826834.323650912 9238795.325112863, -2902846.772544641 9569403.357322084, -1950903.220161304 9807852.8040323, -980171.4032956311 9951847.266721966, -2.848232278972479e-08 10000000, 980171.4032955742 9951847.266721971, 1950903.220161248 9807852.804032311, 2902846.772544587 9569403.357322099, 3826834.323650859 9238795.325112885, 4713967.368259937 8819212.643483572, 5555702.330195982 8314696.123025479, 6343932.841636415 7730104.533627402, 7071067.811865436 7071067.811865514, 7730104.533627332 6343932.8416365, 8314696.123025418 5555702.330196074, 8819212.64348352 4713967.368260034, 9238795.32511284 3826834.323650962, 9569403.357322067 2902846.772544693, 9807852.80403229 1950903.220161357, 9951847.266721962 980171.4032956847, 10000000 8.238535137130598e-08, 10000000 0)), crs=+datum=WGS84 +ellps=WGS84 +lat_0=0 +lon_0=0 +proj=aeqd +units=m)"
      ]
     },
     "execution_count": 157,
     "metadata": {},
     "output_type": "execute_result"
    }
   ],
   "source": [
    "tl.GeoVector.point(0, 0, aeqd_equator).buffer(10_000_000)"
   ]
  },
  {
   "cell_type": "code",
   "execution_count": 127,
   "metadata": {},
   "outputs": [
    {
     "name": "stdout",
     "output_type": "stream",
     "text": [
      "POLYGON ((-2.449761384549638e-09 20003819.76464771, -1.367856745493578e-14 111.6939795576923, 1.367856745493578e-14 111.6939795576923, 2.449761384549638e-09 20003819.76464771, -2.449761384549638e-09 20003819.76464771))\n"
     ]
    }
   ],
   "source": [
    "print(WORLD_BOUNDS.buffer(0).reproject(aeqd_polar)._shape)"
   ]
  },
  {
   "cell_type": "code",
   "execution_count": 123,
   "metadata": {},
   "outputs": [
    {
     "name": "stdout",
     "output_type": "stream",
     "text": [
      "POLYGON ((10000000000000 0, 9951847266721.969 -980171403295.6051, 9807852804032.305 -1950903220161.281, 9569403357322.09 -2902846772544.621, 9238795325112.869 -3826834323650.894, 8819212643483.553 -4713967368259.972, 8314696123025.456 -5555702330196.018, 7730104533627.374 -6343932841636.449, 7071067811865.481 -7071067811865.469, 6343932841636.463 -7730104533627.363, 5555702330196.03 -8314696123025.447, 4713967368259.986 -8819212643483.545, 3826834323650.908 -9238795325112.863, 2902846772544.636 -9569403357322.084, 1950903220161.296 -9807852804032.303, 980171403295.6208 -9951847266721.967, 0.01615544574432587 -10000000000000, -980171403295.5889 -9951847266721.971, -1950903220161.265 -9807852804032.309, -2902846772544.605 -9569403357322.094, -3826834323650.878 -9238795325112.875, -4713967368259.957 -8819212643483.561, -5555702330196.005 -8314696123025.464, -6343932841636.439 -7730104533627.382, -7071067811865.463 -7071067811865.488, -7730104533627.358 -6343932841636.468, -8314696123025.443 -5555702330196.036, -8819212643483.543 -4713967368259.99, -9238795325112.861 -3826834323650.911, -9569403357322.084 -2902846772544.637, -9807852804032.303 -1950903220161.295, -9951847266721.969 -980171403295.6172, -10000000000000 -0.01010643099614861, -9951847266721.969 980171403295.597, -9807852804032.307 1950903220161.275, -9569403357322.09 2902846772544.617, -9238795325112.869 3826834323650.892, -8819212643483.553 4713967368259.973, -8314696123025.454 5555702330196.02, -7730104533627.371 6343932841636.453, -7071067811865.477 7071067811865.475, -6343932841636.459 7730104533627.366, -5555702330196.029 8314696123025.448, -4713967368259.987 8819212643483.545, -3826834323650.912 9238795325112.861, -2902846772544.641 9569403357322.084, -1950903220161.304 9807852804032.301, -980171403295.631 9951847266721.967, -0.02848232278972479 10000000000000, 980171403295.5742 9951847266721.971, 1950903220161.248 9807852804032.311, 2902846772544.587 9569403357322.1, 3826834323650.859 9238795325112.885, 4713967368259.937 8819212643483.572, 5555702330195.981 8314696123025.479, 6343932841636.415 7730104533627.402, 7071067811865.436 7071067811865.515, 7730104533627.332 6343932841636.5, 8314696123025.418 5555702330196.074, 8819212643483.52 4713967368260.034, 9238795325112.84 3826834323650.961, 9569403357322.066 2902846772544.693, 9807852804032.289 1950903220161.357, 9951847266721.961 980171403295.6847, 10000000000000 0.08238535137130597, 10000000000000 0))\n"
     ]
    }
   ],
   "source": [
    "print(tl.GeoVector.point(0, 0, aeqd_polar).buffer(10000000000000)._shape)"
   ]
  },
  {
   "cell_type": "code",
   "execution_count": 79,
   "metadata": {},
   "outputs": [
    {
     "data": {
      "image/svg+xml": [
       "<svg xmlns=\"http://www.w3.org/2000/svg\" xmlns:xlink=\"http://www.w3.org/1999/xlink\" width=\"300\" height=\"300\" viewBox=\"19999008.676500812 -38499.66628843024 1039490.9897876196 126999.3325768605\" preserveAspectRatio=\"xMinYMin meet\"><g transform=\"matrix(1,0,0,-1,0,50000.00000000001)\"><path fill-rule=\"evenodd\" fill=\"#66cc99\" stroke=\"#555555\" stroke-width=\"6929.939931917464\" opacity=\"0.6\" d=\"M 20037508.342789244,50000.0 L 21000000.0,50000.0 L 21000000.0,0.0 L 20037508.342789244,0.0 L 20037508.342789244,50000.0 z\" /></g></svg>"
      ],
      "text/html": [
       "<div style=\"width:100%;\"><div style=\"position:relative;width:100%;height:0;padding-bottom:60%;\"><iframe src=\"data:text/html;charset=utf-8;base64,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\" style=\"position:absolute;width:100%;height:100%;left:0;top:0;border:none !important;\" allowfullscreen webkitallowfullscreen mozallowfullscreen></iframe></div></div>"
      ],
      "text/plain": [
       "GeoVector(shape=POLYGON ((20037508.34278924 50000, 21000000 50000, 21000000 0, 20037508.34278924 0, 20037508.34278924 50000)), crs=+init=epsg:3857 +no_defs)"
      ]
     },
     "execution_count": 79,
     "metadata": {},
     "output_type": "execute_result"
    }
   ],
   "source": [
    "tl.GeoVector(res_l[1], WEB_MERCATOR_CRS)"
   ]
  },
  {
   "cell_type": "code",
   "execution_count": 78,
   "metadata": {},
   "outputs": [
    {
     "data": {
      "image/svg+xml": [
       "<svg xmlns=\"http://www.w3.org/2000/svg\" xmlns:xlink=\"http://www.w3.org/1999/xlink\" width=\"300\" height=\"300\" viewBox=\"18958499.66628843 -41500.33371156976 1120509.0102123804 133000.6674231395\" preserveAspectRatio=\"xMinYMin meet\"><g transform=\"matrix(1,0,0,-1,0,49999.99999999999)\"><path fill-rule=\"evenodd\" fill=\"#66cc99\" stroke=\"#555555\" stroke-width=\"7470.060068082536\" opacity=\"0.6\" d=\"M 19000000.0,0.0 L 19000000.0,50000.0 L 20037508.342789244,50000.0 L 20037508.342789244,0.0 L 19000000.0,0.0 z\" /></g></svg>"
      ],
      "text/html": [
       "<div style=\"width:100%;\"><div style=\"position:relative;width:100%;height:0;padding-bottom:60%;\"><iframe src=\"data:text/html;charset=utf-8;base64,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\" style=\"position:absolute;width:100%;height:100%;left:0;top:0;border:none !important;\" allowfullscreen webkitallowfullscreen mozallowfullscreen></iframe></div></div>"
      ],
      "text/plain": [
       "GeoVector(shape=POLYGON ((19000000 0, 19000000 50000, 20037508.34278924 50000, 20037508.34278924 0, 19000000 0)), crs=+init=epsg:3857 +no_defs)"
      ]
     },
     "execution_count": 78,
     "metadata": {},
     "output_type": "execute_result"
    }
   ],
   "source": [
    "tl.GeoVector(res_l[0], WEB_MERCATOR_CRS)"
   ]
  },
  {
   "cell_type": "code",
   "execution_count": 56,
   "metadata": {},
   "outputs": [
    {
     "name": "stderr",
     "output_type": "stream",
     "text": [
      "/home/juanlu/Satellogic/telluric-team/telluric/telluric/plotting.py:157: UserWarning: Plotting a limited representation of the data, use the .plot() method for further customization\n",
      "  \"Plotting a limited representation of the data, use the .plot() method for further customization\")\n"
     ]
    },
    {
     "data": {
      "image/svg+xml": [
       "<svg xmlns=\"http://www.w3.org/2000/svg\" xmlns:xlink=\"http://www.w3.org/1999/xlink\" width=\"300\" height=\"300\" viewBox=\"18960000.0 -40000.0 1080000.0 130000.0\" preserveAspectRatio=\"xMinYMin meet\"><g transform=\"matrix(1,0,0,-1,0,50000.0)\"><g><path fill-rule=\"evenodd\" fill=\"#66cc99\" stroke=\"#555555\" stroke-width=\"7200.0\" opacity=\"0.6\" d=\"M 19000000.0,0.0 L 19000000.0,50000.0 L 20000000.0,50000.0 L 20000000.0,0.0 L 19000000.0,0.0 z\" /></g></g></svg>"
      ],
      "text/html": [
       "<div style=\"width:100%;\"><div style=\"position:relative;width:100%;height:0;padding-bottom:60%;\"><iframe src=\"data:text/html;charset=utf-8;base64,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\" style=\"position:absolute;width:100%;height:100%;left:0;top:0;border:none !important;\" allowfullscreen webkitallowfullscreen mozallowfullscreen></iframe></div></div>"
      ],
      "text/plain": [
       "GeoVector(shape=GEOMETRYCOLLECTION (POLYGON ((19000000 0, 19000000 50000, 20000000 50000, 20000000 0, 19000000 0))), crs=+init=epsg:3857 +no_defs)"
      ]
     },
     "execution_count": 56,
     "metadata": {},
     "output_type": "execute_result"
    }
   ],
   "source": [
    "tl.GeoVector(res, WEB_MERCATOR_CRS)"
   ]
  },
  {
   "cell_type": "code",
   "execution_count": 53,
   "metadata": {},
   "outputs": [
    {
     "data": {
      "text/plain": [
       "1"
      ]
     },
     "execution_count": 53,
     "metadata": {},
     "output_type": "execute_result"
    }
   ],
   "source": [
    "len(_)"
   ]
  },
  {
   "cell_type": "code",
   "execution_count": 12,
   "metadata": {},
   "outputs": [
    {
     "data": {
      "application/vnd.jupyter.widget-view+json": {
       "model_id": "de7445683de249efb786ba46316e5521",
       "version_major": 2,
       "version_minor": 0
      },
      "text/plain": [
       "Map(basemap={'url': 'http://stamen-tiles-a.a.ssl.fastly.net/terrain/{z}/{x}/{y}.png', 'attribution': 'Map tile…"
      ]
     },
     "metadata": {},
     "output_type": "display_data"
    }
   ],
   "source": [
    "gv = tl.GeoVector.from_bounds(19_000_000, 0, 20_000_000, 50_000, WEB_MERCATOR_CRS)\n",
    "gv.plot()"
   ]
  },
  {
   "cell_type": "code",
   "execution_count": 34,
   "metadata": {},
   "outputs": [
    {
     "name": "stdout",
     "output_type": "stream",
     "text": [
      "POLYGON ((170.6799039827091 0, 170.6799039827091 0.4491530416852091, -171.3537903349005 0.4491530416852091, -171.3537903349005 0, 170.6799039827091 0))\n"
     ]
    }
   ],
   "source": [
    "print(tl.GeoVector.from_bounds(19_000_000, 0, 21_000_000, 50_000, WEB_MERCATOR_CRS).reproject(WGS84_CRS)._shape)"
   ]
  },
  {
   "cell_type": "code",
   "execution_count": 32,
   "metadata": {},
   "outputs": [
    {
     "data": {
      "application/vnd.jupyter.widget-view+json": {
       "model_id": "c71656fb62634c94aeac51d492468694",
       "version_major": 2,
       "version_minor": 0
      },
      "text/plain": [
       "Map(basemap={'url': 'http://stamen-tiles-a.a.ssl.fastly.net/terrain/{z}/{x}/{y}.png', 'attribution': 'Map tile…"
      ]
     },
     "metadata": {},
     "output_type": "display_data"
    }
   ],
   "source": [
    "tl.GeoVector.from_bounds(19_000_000, 0, 21_000_000, 50_000, WEB_MERCATOR_CRS).plot()"
   ]
  },
  {
   "cell_type": "code",
   "execution_count": 31,
   "metadata": {},
   "outputs": [
    {
     "data": {
      "application/vnd.jupyter.widget-view+json": {
       "model_id": "e29114e040e244cb942b406c859a4cc7",
       "version_major": 2,
       "version_minor": 0
      },
      "text/plain": [
       "Map(basemap={'url': 'http://stamen-tiles-a.a.ssl.fastly.net/terrain/{z}/{x}/{y}.png', 'attribution': 'Map tile…"
      ]
     },
     "metadata": {},
     "output_type": "display_data"
    }
   ],
   "source": [
    "tl.GeoVector.from_bounds(19_000_000, 0, 20_000_000, 50_000, WEB_MERCATOR_CRS).plot()"
   ]
  },
  {
   "cell_type": "code",
   "execution_count": 30,
   "metadata": {},
   "outputs": [
    {
     "data": {
      "image/svg+xml": [
       "<svg xmlns=\"http://www.w3.org/2000/svg\" xmlns:xlink=\"http://www.w3.org/1999/xlink\" width=\"300\" height=\"210.4\" viewBox=\"-205.2 -105.2 410.4 210.4\" preserveAspectRatio=\"xMinYMin meet\"><g transform=\"matrix(1,0,0,-1,0,0.0)\"><path fill-rule=\"evenodd\" fill=\"#66cc99\" stroke=\"#555555\" stroke-width=\"2.7359999999999998\" opacity=\"0.6\" d=\"M -190.0,-90.0 L -190.0,90.0 L 190.0,90.0 L 190.0,-90.0 L -190.0,-90.0 z\" /></g></svg>"
      ],
      "text/html": [
       "<div style=\"width:100%;\"><div style=\"position:relative;width:100%;height:0;padding-bottom:60%;\"><iframe src=\"data:text/html;charset=utf-8;base64,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\" style=\"position:absolute;width:100%;height:100%;left:0;top:0;border:none !important;\" allowfullscreen webkitallowfullscreen mozallowfullscreen></iframe></div></div>"
      ],
      "text/plain": [
       "GeoVector(shape=POLYGON ((-190 -90, -190 90, 190 90, 190 -90, -190 -90)), crs=+init=epsg:4326 +no_defs)"
      ]
     },
     "execution_count": 30,
     "metadata": {},
     "output_type": "execute_result"
    }
   ],
   "source": [
    "tl.GeoVector.from_bounds(-190, -90, 190, 90)"
   ]
  },
  {
   "cell_type": "code",
   "execution_count": 5,
   "metadata": {},
   "outputs": [],
   "source": [
    "p_off = tl.GeoVector.point(170, 80)"
   ]
  },
  {
   "cell_type": "code",
   "execution_count": 15,
   "metadata": {},
   "outputs": [],
   "source": [
    "from telluric.vectors import WORLD_BOUNDS"
   ]
  },
  {
   "cell_type": "code",
   "execution_count": 6,
   "metadata": {},
   "outputs": [],
   "source": [
    "from telluric.util.projections import azimuthal_from_geometry"
   ]
  },
  {
   "cell_type": "code",
   "execution_count": 9,
   "metadata": {},
   "outputs": [
    {
     "data": {
      "text/plain": [
       "CRS({'units': 'm', 'proj': 'aeqd', 'ellps': 'WGS84', 'datum': 'WGS84', 'lat_0': 80.0, 'lon_0': 170.0})"
      ]
     },
     "execution_count": 9,
     "metadata": {},
     "output_type": "execute_result"
    }
   ],
   "source": [
    "aeqd_crs = azimuthal_from_geometry(p_off)\n",
    "aeqd_crs"
   ]
  },
  {
   "cell_type": "code",
   "execution_count": 25,
   "metadata": {},
   "outputs": [
    {
     "data": {
      "image/svg+xml": [
       "<svg xmlns=\"http://www.w3.org/2000/svg\" xmlns:xlink=\"http://www.w3.org/1999/xlink\" width=\"300\" height=\"208.798\" viewBox=\"-194.4 -104.399 388.8 208.798\" preserveAspectRatio=\"xMinYMin meet\"><g transform=\"matrix(1,0,0,-1,0,0.0)\"><path fill-rule=\"evenodd\" fill=\"#66cc99\" stroke=\"#555555\" stroke-width=\"2.592\" opacity=\"0.6\" d=\"M -180.0,-89.999 L -180.0,89.999 L 180.0,89.999 L 180.0,-89.999 L -180.0,-89.999 z\" /></g></svg>"
      ],
      "text/plain": [
       "<shapely.geometry.polygon.Polygon at 0x7f247a14e6a0>"
      ]
     },
     "execution_count": 25,
     "metadata": {},
     "output_type": "execute_result"
    }
   ],
   "source": [
    "WORLD_BOUNDS._shape"
   ]
  },
  {
   "cell_type": "code",
   "execution_count": 38,
   "metadata": {},
   "outputs": [
    {
     "data": {
      "text/plain": [
       "[(-180.0, -89.999),\n",
       " (-180.0, 89.999),\n",
       " (180.0, 89.999),\n",
       " (180.0, -89.999),\n",
       " (-180.0, -89.999)]"
      ]
     },
     "execution_count": 38,
     "metadata": {},
     "output_type": "execute_result"
    }
   ],
   "source": [
    "WORLD_BOUNDS = GeoVector.from_bounds(-180, -89.999, 180, 89.999)\n",
    "list(WORLD_BOUNDS.exterior.coords)"
   ]
  },
  {
   "cell_type": "code",
   "execution_count": 65,
   "metadata": {},
   "outputs": [],
   "source": [
    "\n",
    "WORLD_BOUNDS_DENSE = GeoVector.polygon(((-180.0, -89.999),\n",
    " (-180.0, 0),\n",
    " (-180.0, 89.999),\n",
    " (0, 89.999),\n",
    " (180.0, 89.999),\n",
    " (180.0, 0),\n",
    " (180.0, -89.999),\n",
    " (-180.0, -89.999)))"
   ]
  },
  {
   "cell_type": "code",
   "execution_count": 57,
   "metadata": {},
   "outputs": [
    {
     "data": {
      "image/svg+xml": [
       "<svg xmlns=\"http://www.w3.org/2000/svg\" xmlns:xlink=\"http://www.w3.org/1999/xlink\" width=\"300\" height=\"300\" viewBox=\"-812194.4529829695 -10922854.088737845 1624388.905965939 21845708.17747569\" preserveAspectRatio=\"xMinYMin meet\"><g transform=\"matrix(1,0,0,-1,0,0.0)\"><path fill-rule=\"evenodd\" fill=\"#66cc99\" stroke=\"#555555\" stroke-width=\"145638.0545165046\" opacity=\"0.6\" d=\"M -3094.1501134995283,-10113753.785868375 L -3094.1501134970003,10113753.785868375 L 3094.1501134970003,10113753.785868375 L 3094.1501134995283,-10113753.785868375 L -3094.1501134995283,-10113753.785868375 z\" /></g></svg>"
      ],
      "text/plain": [
       "<shapely.geometry.polygon.Polygon at 0x7f2477969668>"
      ]
     },
     "execution_count": 57,
     "metadata": {},
     "output_type": "execute_result"
    }
   ],
   "source": [
    "\n",
    "GeoVector.polygon(((-180.0, -89.999),\n",
    " (-180.0, 0),\n",
    " (-180.0, 89.999),\n",
    " (0, 89.999),\n",
    " (180.0, 89.999),\n",
    " (180.0, 0),\n",
    " (180.0, -89.999),\n",
    " (-180.0, -89.999))).buffer(-1).reproject(aeqd_crs_world)._shape"
   ]
  },
  {
   "cell_type": "code",
   "execution_count": 59,
   "metadata": {},
   "outputs": [],
   "source": [
    "from rasterio.crs import CRS"
   ]
  },
  {
   "cell_type": "code",
   "execution_count": 61,
   "metadata": {},
   "outputs": [],
   "source": [
    "aeqd_polar = CRS({'units': 'm', 'proj': 'aeqd', 'ellps': 'WGS84', 'datum': 'WGS84', 'lat_0': 90, 'lon_0': 0})"
   ]
  },
  {
   "cell_type": "code",
   "execution_count": 78,
   "metadata": {},
   "outputs": [],
   "source": [
    "from functools import partial\n",
    "\n",
    "import numpy as np\n",
    "\n",
    "import pyproj\n",
    "from shapely.ops import transform as sh_transform\n",
    "from shapely.geometry import Point\n",
    "\n",
    "wgs84_globe = pyproj.Proj(proj='latlong', ellps='WGS84')\n",
    "\n",
    "def disk_on_globe(lat, lon, radius):\n",
    "    \"\"\"Generate a shapely.Polygon object representing a disk on the\n",
    "    surface of the Earth, containing all points within RADIUS meters\n",
    "    of latitude/longitude LAT/LON.\"\"\"\n",
    "\n",
    "    aeqd = pyproj.Proj(proj='aeqd', ellps='WGS84', datum='WGS84',\n",
    "                       lat_0=lat, lon_0=lon)\n",
    "    disk = sh_transform(\n",
    "        partial(pyproj.transform, aeqd, wgs84_globe),\n",
    "        Point(0, 0).buffer(radius)\n",
    "    )\n",
    "\n",
    "    # Fix up segments that cross the coordinate singularity at longitude ±180.\n",
    "    # We do this unconditionally because it may or may not create a non-simple\n",
    "    # polygon, depending on where the initial point was.\n",
    "    boundary = np.array(disk.boundary)\n",
    "    i = 0\n",
    "    while i < boundary.shape[0] - 1:\n",
    "        if abs(boundary[i+1,0] - boundary[i,0]) > 180:\n",
    "            assert (boundary[i,1] > 0) == (boundary[i,1] > 0)\n",
    "            vsign = -1 if boundary[i,1] < 0 else 1\n",
    "            hsign = -1 if boundary[i,0] < 0 else 1\n",
    "            boundary = np.insert(boundary, i+1, [\n",
    "                [hsign*179, boundary[i,1]],\n",
    "                [hsign*179, vsign*89],\n",
    "                [-hsign*179, vsign*89],\n",
    "                [-hsign*179, boundary[i+1,1]]\n",
    "            ], axis=0)\n",
    "            i += 5\n",
    "        else:\n",
    "            i += 1\n",
    "    disk = Polygon(boundary)\n",
    "\n",
    "    # If the fixed-up polygon doesn't contain the origin point, invert it.\n",
    "    if not disk.contains(Point(lon, lat)):\n",
    "        disk = Box(-180, -90, 180, 90).difference(disk)\n",
    "\n",
    "    assert disk.is_valid\n",
    "    assert disk.boundary.is_simple\n",
    "    assert disk.contains(Point(lon, lat))\n",
    "    return disk"
   ]
  },
  {
   "cell_type": "code",
   "execution_count": 89,
   "metadata": {},
   "outputs": [
    {
     "data": {
      "image/svg+xml": [
       "<svg xmlns=\"http://www.w3.org/2000/svg\" xmlns:xlink=\"http://www.w3.org/1999/xlink\" width=\"100.0\" height=\"100.0\" viewBox=\"164.42405084105013 78.69136550892776 11.151898317899736 2.617220594975038\" preserveAspectRatio=\"xMinYMin meet\"><g transform=\"matrix(1,0,0,-1,0,159.99995161283056)\"><path fill-rule=\"evenodd\" fill=\"#66cc99\" stroke=\"#555555\" stroke-width=\"0.22303796635799472\" opacity=\"0.6\" d=\"M 175.14293351112227,79.96039163134367 L 175.07444805770328,79.87332915283217 L 174.95931095302282,79.78782849275201 L 174.79969809214103,79.70466440665903 L 174.59805782004204,79.62457276880731 L 174.35706400565115,79.54824641554266 L 174.07957453377117,79.47633168838853 L 173.76859524992682,79.40942558614728 L 173.4272491771699,79.34807344001904 L 173.05875067141443,79.29276703272953 L 172.66638408155092,79.24394309096454 L 172.2534864210694,79.2019820892818 L 171.82343352868608,79.16720731258854 L 171.3796291873386,79.1398841328944 L 170.92549667622959,79.12021946418395 L 170.4644722432154,79.10836136682668 L 170.0,79.10439877996109 L 169.53552775678463,79.10836136682668 L 169.07450332377044,79.12021946418395 L 168.62037081266143,79.13988413289438 L 168.17656647131392,79.16720731258854 L 167.74651357893063,79.2019820892818 L 167.3336159184491,79.24394309096454 L 166.94124932858557,79.29276703272953 L 166.5727508228301,79.34807344001904 L 166.2314047500732,79.40942558614728 L 165.92042546622883,79.47633168838851 L 165.64293599434885,79.54824641554266 L 165.40194217995796,79.62457276880731 L 165.20030190785897,79.70466440665903 L 165.04068904697718,79.787828492752 L 164.92555194229672,79.87332915283217 L 164.85706648887773,79.96039163134367 L 164.83708411208346,80.04820723951458 L 164.86707534660556,80.13593918275255 L 164.94807015437974,80.22272934448789 L 165.08059663813597,80.30770608445262 L 165.26462037024191,80.389993080228 L 165.49948712696786,80.46871920062172 L 165.78387234044087,80.54302934775467 L 166.11574098260974,80.61209614255107 L 166.4923217949424,80.67513225810242 L 166.9100996905949,80.73140313138929 L 167.36482971153188,80.78023971217094 L 167.85157508044716,80.82105084604167 L 168.36477065184653,80.85333484498727 L 168.89831150281265,80.87668978116662 L 169.44566463851675,80.89082205427907 L 169.99999999999997,80.89555283286947 L 170.55433536148325,80.89082205427907 L 171.10168849718733,80.87668978116662 L 171.63522934815342,80.85333484498727 L 172.1484249195528,80.82105084604167 L 172.63517028846812,80.78023971217094 L 173.08990030940507,80.7314031313893 L 173.5076782050576,80.67513225810242 L 173.88425901739024,80.61209614255107 L 174.2161276595591,80.54302934775467 L 174.5005128730321,80.46871920062172 L 174.73537962975806,80.38999308022801 L 174.91940336186406,80.30770608445262 L 175.05192984562026,80.2227293444879 L 175.13292465339444,80.13593918275258 L 175.16291588791654,80.04820723951458 L 175.14293351112227,79.96039163134368 L 175.14293351112227,79.96039163134367 z\" /></g></svg>"
      ],
      "text/plain": [
       "<shapely.geometry.polygon.Polygon at 0x7f2477969fd0>"
      ]
     },
     "execution_count": 89,
     "metadata": {},
     "output_type": "execute_result"
    }
   ],
   "source": [
    "disk_on_globe(p_off.y, p_off.x, 100_000)"
   ]
  },
  {
   "cell_type": "code",
   "execution_count": 66,
   "metadata": {},
   "outputs": [
    {
     "name": "stdout",
     "output_type": "stream",
     "text": [
      "POLYGON ((-347165.4661097763 19889096.23295388, -1951.27604974681 111788.530021015, 1951.27604974681 111788.530021015, 347165.4661097763 19889096.23295388, -347165.4661097763 19889096.23295388))\n"
     ]
    }
   ],
   "source": [
    "print(WORLD_BOUNDS_DENSE.buffer(-1).reproject(aeqd_polar)._shape)"
   ]
  },
  {
   "cell_type": "code",
   "execution_count": 67,
   "metadata": {},
   "outputs": [
    {
     "data": {
      "image/svg+xml": [
       "<svg xmlns=\"http://www.w3.org/2000/svg\" xmlns:xlink=\"http://www.w3.org/1999/xlink\" width=\"300\" height=\"300\" viewBox=\"-1138257.774227091 -679303.7780962996 2276515.548454182 21359492.3191675\" preserveAspectRatio=\"xMinYMin meet\"><g transform=\"matrix(1,0,0,-1,0,20000884.7629749)\"><path fill-rule=\"evenodd\" fill=\"#66cc99\" stroke=\"#555555\" stroke-width=\"142396.61546111666\" opacity=\"0.6\" d=\"M -347165.46610977635,19889096.232953884 L -1951.27604974681,111788.53002101505 L 1951.27604974681,111788.53002101505 L 347165.46610977635,19889096.232953884 L -347165.46610977635,19889096.232953884 z\" /></g></svg>"
      ],
      "text/plain": [
       "<shapely.geometry.polygon.Polygon at 0x7f24779696d8>"
      ]
     },
     "execution_count": 67,
     "metadata": {},
     "output_type": "execute_result"
    }
   ],
   "source": [
    "WORLD_BOUNDS_DENSE.buffer(-1).reproject(aeqd_polar)._shape"
   ]
  },
  {
   "cell_type": "code",
   "execution_count": 63,
   "metadata": {},
   "outputs": [
    {
     "name": "stdout",
     "output_type": "stream",
     "text": [
      "POLYGON ((-347165.4661097763 19889096.23295388, -1951.27604974681 111788.530021015, 1951.27604974681 111788.530021015, 347165.4661097763 19889096.23295388, -347165.4661097763 19889096.23295388))\n"
     ]
    }
   ],
   "source": [
    "print(WORLD_BOUNDS.buffer(-1).reproject(aeqd_polar)._shape)"
   ]
  },
  {
   "cell_type": "code",
   "execution_count": 58,
   "metadata": {},
   "outputs": [
    {
     "data": {
      "text/plain": [
       "CRS({'units': 'm', 'proj': 'aeqd', 'ellps': 'WGS84', 'datum': 'WGS84', 'lat_0': -0.0, 'lon_0': -0.0})"
      ]
     },
     "execution_count": 58,
     "metadata": {},
     "output_type": "execute_result"
    }
   ],
   "source": [
    "aeqd_crs_world = azimuthal_from_geometry(WORLD_BOUNDS)\n",
    "aeqd_crs_world"
   ]
  },
  {
   "cell_type": "code",
   "execution_count": 54,
   "metadata": {},
   "outputs": [
    {
     "name": "stdout",
     "output_type": "stream",
     "text": [
      "POLYGON ((-1.22490121012589e-09 -10002077.42329228, 0 10002077.42329228, 0 10002077.42329228, -1.22490121012589e-09 -10002077.42329228, -1.22490121012589e-09 -10002077.42329228))\n"
     ]
    }
   ],
   "source": [
    "print(WORLD_BOUNDS.buffer(0).reproject(aeqd_crs_world)._shape)"
   ]
  },
  {
   "cell_type": "code",
   "execution_count": 55,
   "metadata": {},
   "outputs": [
    {
     "data": {
      "image/svg+xml": [
       "<svg xmlns=\"http://www.w3.org/2000/svg\" xmlns:xlink=\"http://www.w3.org/1999/xlink\" width=\"300\" height=\"300\" viewBox=\"-812194.4529829695 -10922854.088737845 1624388.905965939 21845708.17747569\" preserveAspectRatio=\"xMinYMin meet\"><g transform=\"matrix(1,0,0,-1,0,0.0)\"><path fill-rule=\"evenodd\" fill=\"#66cc99\" stroke=\"#555555\" stroke-width=\"145638.0545165046\" opacity=\"0.6\" d=\"M -3094.1501134995283,-10113753.785868375 L -3094.1501134970003,10113753.785868375 L 3094.1501134970003,10113753.785868375 L 3094.1501134995283,-10113753.785868375 L -3094.1501134995283,-10113753.785868375 z\" /></g></svg>"
      ],
      "text/plain": [
       "<shapely.geometry.polygon.Polygon at 0x7f24779697b8>"
      ]
     },
     "execution_count": 55,
     "metadata": {},
     "output_type": "execute_result"
    }
   ],
   "source": [
    "WORLD_BOUNDS.buffer(-1).reproject(aeqd_crs_world)._shape"
   ]
  },
  {
   "cell_type": "code",
   "execution_count": 14,
   "metadata": {},
   "outputs": [
    {
     "name": "stdout",
     "output_type": "stream",
     "text": [
      "POLYGON ((100000 0, 99518.4726672197 -9801.71403295605, 98078.52804032306 -19509.03220161281, 95694.03357322089 -29028.46772544621, 92387.9532511287 -38268.34323650894, 88192.12643483553 -47139.67368259972, 83146.96123025456 -55557.02330196017, 77301.04533627375 -63439.32841636449, 70710.67811865482 -70710.67811865469, 63439.32841636462 -77301.04533627363, 55557.0233019603 -83146.96123025447, 47139.67368259986 -88192.12643483545, 38268.34323650908 -92387.95325112862, 29028.46772544636 -95694.03357322085, 19509.03220161296 -98078.52804032303, 9801.714032956208 -99518.47266721967, 1.615544574432587e-10 -100000, -9801.714032955888 -99518.4726672197, -19509.03220161265 -98078.52804032307, -29028.46772544605 -95694.03357322094, -38268.34323650879 -92387.95325112875, -47139.67368259957 -88192.12643483561, -55557.02330196005 -83146.96123025463, -63439.32841636439 -77301.04533627382, -70710.67811865463 -70710.67811865488, -77301.04533627359 -63439.32841636468, -83146.96123025444 -55557.02330196036, -88192.12643483543 -47139.6736825999, -92387.95325112862 -38268.34323650911, -95694.03357322085 -29028.46772544637, -98078.52804032303 -19509.03220161295, -99518.47266721968 -9801.714032956172, -100000 -1.010643099614861e-10, -99518.4726672197 9801.71403295597, -98078.52804032307 19509.03220161275, -95694.03357322091 29028.46772544617, -92387.9532511287 38268.34323650892, -88192.12643483553 47139.67368259973, -83146.96123025454 55557.02330196019, -77301.04533627372 63439.32841636453, -70710.67811865477 70710.67811865475, -63439.32841636459 77301.04533627366, -55557.0233019603 83146.96123025448, -47139.67368259987 88192.12643483545, -38268.34323650911 92387.95325112862, -29028.46772544641 95694.03357322083, -19509.03220161304 98078.528040323, -9801.71403295631 99518.47266721966, -2.848232278972479e-10 100000, 9801.714032955742 99518.47266721971, 19509.03220161248 98078.52804032312, 29028.46772544587 95694.03357322099, 38268.34323650859 92387.95325112884, 47139.67368259936 88192.12643483572, 55557.02330195982 83146.96123025479, 63439.32841636415 77301.04533627402, 70710.67811865435 70710.67811865515, 77301.04533627332 63439.328416365, 83146.96123025418 55557.02330196074, 88192.1264348352 47139.67368260034, 92387.95325112841 38268.34323650962, 95694.03357322067 29028.46772544693, 98078.5280403229 19509.03220161357, 99518.47266721961 9801.714032956846, 100000 8.238535137130597e-10, 100000 0))\n"
     ]
    }
   ],
   "source": [
    "print(p_off.reproject(aeqd_crs).buffer(100_000)._shape)"
   ]
  },
  {
   "cell_type": "code",
   "execution_count": 7,
   "metadata": {},
   "outputs": [
    {
     "data": {
      "image/svg+xml": [
       "<svg xmlns=\"http://www.w3.org/2000/svg\" xmlns:xlink=\"http://www.w3.org/1999/xlink\" />"
      ],
      "text/plain": [
       "<shapely.geometry.collection.GeometryCollection at 0x7f2477979320>"
      ]
     },
     "execution_count": 7,
     "metadata": {},
     "output_type": "execute_result"
    }
   ],
   "source": [
    "p_off.buffer(100_000, geodesic=True)._shape"
   ]
  },
  {
   "cell_type": "code",
   "execution_count": null,
   "metadata": {},
   "outputs": [],
   "source": []
  },
  {
   "cell_type": "code",
   "execution_count": 8,
   "metadata": {},
   "outputs": [
    {
     "name": "stdout",
     "output_type": "stream",
     "text": [
      "GEOMETRYCOLLECTION EMPTY\n"
     ]
    }
   ],
   "source": [
    "print(_)"
   ]
  },
  {
   "cell_type": "code",
   "execution_count": 9,
   "metadata": {},
   "outputs": [
    {
     "data": {
      "image/svg+xml": [
       "<svg xmlns=\"http://www.w3.org/2000/svg\" xmlns:xlink=\"http://www.w3.org/1999/xlink\" />"
      ],
      "text/plain": [
       "<shapely.geometry.collection.GeometryCollection at 0x7f0bbc840fd0>"
      ]
     },
     "execution_count": 9,
     "metadata": {},
     "output_type": "execute_result"
    }
   ],
   "source": [
    "p_off.buffer(100_000_0, geodesic=True)._shape"
   ]
  },
  {
   "cell_type": "code",
   "execution_count": 23,
   "metadata": {},
   "outputs": [
    {
     "name": "stdout",
     "output_type": "stream",
     "text": [
      "> <ipython-input-23-80e881ecc241>(3)foo()\n",
      "-> res = cut_by_antimeridian(p_off.buffer(1_000_000, geodesic=True))\n",
      "(Pdb) s\n",
      "--Call--\n",
      "> /home/juanlu/Satellogic/telluric-team/telluric/telluric/vectors.py(435)buffer()\n",
      "-> def buffer(self, *args, geodesic=False, **kwargs):\n",
      "(Pdb) r\n",
      "--Return--\n",
      "> /home/juanlu/Satellogic/telluric-team/telluric/telluric/vectors.py(452)buffer()->GeoVector(sha...4326 +no_defs)\n",
      "-> return self.reproject(aeqd_crs).buffer(*args, **kwargs).reproject(self.crs)\n",
      "(Pdb) s\n",
      "--Call--\n",
      "> /home/juanlu/Satellogic/telluric-team/telluric/telluric/util/antimeridian.py(24)cut_by_antimeridian()\n",
      "-> def cut_by_antimeridian(geometry):\n",
      "(Pdb) n\n",
      "> /home/juanlu/Satellogic/telluric-team/telluric/telluric/util/antimeridian.py(26)cut_by_antimeridian()\n",
      "-> crs = geometry.crs\n",
      "(Pdb) \n",
      "> /home/juanlu/Satellogic/telluric-team/telluric/telluric/util/antimeridian.py(27)cut_by_antimeridian()\n",
      "-> shapes_col = split(geometry.get_shape(crs), ANTIMERIDIAN.get_shape(crs))\n",
      "(Pdb) s\n",
      "--Call--\n",
      "> /home/juanlu/Satellogic/telluric-team/telluric/telluric/vectors.py(387)get_shape()\n",
      "-> def get_shape(self, crs):\n",
      "(Pdb) r\n",
      "--Return--\n",
      "> /home/juanlu/Satellogic/telluric-team/telluric/telluric/vectors.py(394)get_shape()-><shapely.geom...x7fd1d3123278>\n",
      "-> return self.reproject(crs)._shape\n",
      "(Pdb) s\n",
      "--Call--\n",
      "> /home/juanlu/Satellogic/telluric-team/telluric/telluric/vectors.py(387)get_shape()\n",
      "-> def get_shape(self, crs):\n",
      "(Pdb) r\n",
      "--Return--\n",
      "> /home/juanlu/Satellogic/telluric-team/telluric/telluric/vectors.py(394)get_shape()-><shapely.geom...x7fd1f7f1aba8>\n",
      "-> return self.reproject(crs)._shape\n",
      "(Pdb) s\n",
      "--Call--\n",
      "> /home/juanlu/.miniconda36/envs/tp36/lib/python3.6/site-packages/shapely/ops.py(422)split()\n",
      "-> @staticmethod\n",
      "(Pdb) n\n",
      "> /home/juanlu/.miniconda36/envs/tp36/lib/python3.6/site-packages/shapely/ops.py(453)split()\n",
      "-> if geom.type in ('MultiLineString', 'MultiPolygon'):\n",
      "(Pdb) p geom.type\n",
      "'Polygon'\n",
      "(Pdb) n\n",
      "> /home/juanlu/.miniconda36/envs/tp36/lib/python3.6/site-packages/shapely/ops.py(456)split()\n",
      "-> elif geom.type == 'LineString':\n",
      "(Pdb) l\n",
      "451  \t        \"\"\"\n",
      "452  \t\n",
      "453  \t        if geom.type in ('MultiLineString', 'MultiPolygon'):\n",
      "454  \t             return GeometryCollection([i for part in geom.geoms for i in SplitOp.split(part, splitter).geoms])\n",
      "455  \t\n",
      "456  ->\t        elif geom.type == 'LineString':\n",
      "457  \t            if splitter.type in ('LineString', 'MultiLineString', 'Polygon', 'MultiPolygon'):\n",
      "458  \t                split_func = SplitOp._split_line_with_line\n",
      "459  \t            elif splitter.type in ('Point'):\n",
      "460  \t                split_func = SplitOp._split_line_with_point\n",
      "461  \t            elif splitter.type in ('MultiPoint'):\n",
      "(Pdb) l\n",
      "462  \t                split_func =  SplitOp._split_line_with_multipoint\n",
      "463  \t            else:\n",
      "464  \t                raise ValueError(\"Splitting a LineString with a %s is not supported\" % splitter.type)\n",
      "465  \t\n",
      "466  \t        elif geom.type == 'Polygon':\n",
      "467  \t            if splitter.type == 'LineString':\n",
      "468  \t                split_func = SplitOp._split_polygon_with_line\n",
      "469  \t            else:\n",
      "470  \t                raise ValueError(\"Splitting a Polygon with a %s is not supported\" % splitter.type)\n",
      "471  \t\n",
      "472  \t        else:\n",
      "(Pdb) b 466\n",
      "Breakpoint 1 at /home/juanlu/.miniconda36/envs/tp36/lib/python3.6/site-packages/shapely/ops.py:466\n",
      "(Pdb) c\n",
      "> /home/juanlu/.miniconda36/envs/tp36/lib/python3.6/site-packages/shapely/ops.py(466)split()\n",
      "-> elif geom.type == 'Polygon':\n",
      "(Pdb) n\n",
      "> /home/juanlu/.miniconda36/envs/tp36/lib/python3.6/site-packages/shapely/ops.py(467)split()\n",
      "-> if splitter.type == 'LineString':\n",
      "(Pdb) n\n",
      "> /home/juanlu/.miniconda36/envs/tp36/lib/python3.6/site-packages/shapely/ops.py(468)split()\n",
      "-> split_func = SplitOp._split_polygon_with_line\n",
      "(Pdb) n\n",
      "> /home/juanlu/.miniconda36/envs/tp36/lib/python3.6/site-packages/shapely/ops.py(475)split()\n",
      "-> return GeometryCollection(split_func(geom, splitter))\n",
      "(Pdb) p split_func.__doc__\n",
      "'Split a Polygon with a LineString'\n",
      "(Pdb) !split_func(geom, splitter)\n"
     ]
    },
    {
     "name": "stderr",
     "output_type": "stream",
     "text": [
      "TopologyException: Input geom 1 is invalid: Self-intersection at or near point 161.79646591154537 71.255008644190397 at 161.79646591154537 71.255008644190397\n"
     ]
    },
    {
     "name": "stdout",
     "output_type": "stream",
     "text": [
      "*** ValueError: No Shapely geometry can be created from null value\n",
      "(Pdb) !geom.is_valid\n",
      "False\n",
      "(Pdb) !splitter.is_valid\n",
      "True\n",
      "(Pdb) \n",
      "'Split a Polygon with a LineString'\n",
      "(Pdb) u\n",
      "> /home/juanlu/Satellogic/telluric-team/telluric/telluric/util/antimeridian.py(27)cut_by_antimeridian()\n",
      "-> shapes_col = split(geometry.get_shape(crs), ANTIMERIDIAN.get_shape(crs))\n",
      "(Pdb) u\n",
      "> <ipython-input-23-80e881ecc241>(3)foo()\n",
      "-> res = cut_by_antimeridian(p_off.buffer(1_000_000, geodesic=True))\n",
      "(Pdb) u\n",
      "> <ipython-input-23-80e881ecc241>(6)<module>()\n",
      "-> foo()\n",
      "(Pdb) u\n",
      "> /home/juanlu/.miniconda36/envs/tp36/lib/python3.6/site-packages/IPython/core/interactiveshell.py(3265)run_code()\n",
      "-> exec(code_obj, self.user_global_ns, self.user_ns)\n",
      "(Pdb) d\n",
      "> <ipython-input-23-80e881ecc241>(6)<module>()\n",
      "-> foo()\n",
      "(Pdb) d\n",
      "> <ipython-input-23-80e881ecc241>(3)foo()\n",
      "-> res = cut_by_antimeridian(p_off.buffer(1_000_000, geodesic=True))\n",
      "(Pdb) d\n",
      "> /home/juanlu/Satellogic/telluric-team/telluric/telluric/util/antimeridian.py(27)cut_by_antimeridian()\n",
      "-> shapes_col = split(geometry.get_shape(crs), ANTIMERIDIAN.get_shape(crs))\n",
      "(Pdb) p geometry.is_valid\n",
      "False\n",
      "(Pdb) p Polygon\n",
      "<class 'shapely.geometry.polygon.Polygon'>\n",
      "(Pdb) p Polygon(geometry.get_shape(crs).exterior)\n",
      "<shapely.geometry.polygon.Polygon object at 0x7fd1d31234e0>\n",
      "(Pdb) p Polygon(geometry.get_shape(crs).exterior).is_valid\n",
      "False\n",
      "(Pdb) p geometry.get_shape(crs).exterior.is_valid\n",
      "False\n",
      "(Pdb) u\n",
      "> <ipython-input-23-80e881ecc241>(3)foo()\n",
      "-> res = cut_by_antimeridian(p_off.buffer(1_000_000, geodesic=True))\n",
      "(Pdb) p p_off.is_valid\n",
      "True\n",
      "(Pdb) p p_off.buffer(100, geodesic=True).is_valid\n",
      "True\n",
      "(Pdb) p p_off.buffer(100, geodesic=True).is_valid\n",
      "True\n",
      "(Pdb) p p_off.buffer(1_000, geodesic=True).is_valid\n",
      "True\n",
      "(Pdb) p p_off.buffer(10_000, geodesic=True).is_valid\n",
      "True\n",
      "(Pdb) p p_off.buffer(100_000, geodesic=True).is_valid\n",
      "True\n",
      "(Pdb) p p_off.buffer(100_000_0, geodesic=True).is_valid\n",
      "False\n",
      "(Pdb) 100_00_0\n",
      "100000\n",
      "(Pdb) p p_off.buffer(100_000, geodesic=True).envelope._shape.bounds\n",
      "(164.83708411208346, 79.10439877996109, 175.16291588791654, 80.89555283286947)\n",
      "(Pdb) p p_off.buffer(100_000_0, geodesic=True).envelope._shape.bounds\n",
      "(-179.2306565069546, 71.04114631372477, 178.08101291315958, 88.95405294877004)\n",
      "(Pdb) p_off.buffer(100_000_0, geodesic=True).envelope.intersection(WORLD_BOUNDS)\n",
      "GeoVector(shape=POLYGON ((-179.2306565069546 71.04114631372477, -179.2306565069546 88.95405294877004, 178.0810129131596 88.95405294877004, 178.0810129131596 71.04114631372477, -179.2306565069546 71.04114631372477)), crs=+init=epsg:4326 +no_defs)\n",
      "(Pdb) p_off.buffer(100_000_0, geodesic=True).envelope.intersection(WORLD_BOUNDS).is_valid\n",
      "True\n",
      "(Pdb) p_off.buffer(100_000_0, geodesic=True).envelope.intersection(WORLD_BOUNDS).envelope._shape.bounds\n",
      "(-179.2306565069546, 71.04114631372477, 178.08101291315958, 88.95405294877004)\n",
      "(Pdb) p_off.buffer(100_000_0, geodesic=True).intersection(WORLD_BOUNDS).envelope._shape.bounds\n"
     ]
    },
    {
     "name": "stderr",
     "output_type": "stream",
     "text": [
      "TopologyException: Input geom 0 is invalid: Self-intersection at or near point 161.79646591154537 71.255008644190397 at 161.79646591154537 71.255008644190397\n"
     ]
    },
    {
     "name": "stdout",
     "output_type": "stream",
     "text": [
      "*** shapely.errors.TopologicalError: The operation 'GEOSIntersection_r' could not be performed. Likely cause is invalidity of the geometry <shapely.geometry.polygon.Polygon object at 0x7fd1d3123ba8>\n",
      "(Pdb) p p_off.buffer(100_000_0, geodesic=True)._shape\n",
      "<shapely.geometry.polygon.Polygon object at 0x7fd1d3123e80>\n",
      "(Pdb) p p_off.buffer(100_000_0, geodesic=True).exterior\n",
      "GeoVector(shape=LINEARRING (-147.7808054444246 76.60653909439564, -150.298266634011 75.96594808774422, -152.8446556226421 75.3585538256206, -155.4157115760171 74.78591560226793, -158.0079491290955 74.24950566735154, -160.6184642559477 73.75070623083732, -163.2447928470328 73.29080610270988, -165.8848061324606 72.87099715447791, -168.5366323177415 72.49237074227352, -171.1985971558741 72.15591420070814, -173.8691783787867 71.86250749582635, -176.5469703768952 71.61292011052529, -179.2306565069546 71.40780822427131, 178.0810129131596 71.24771223935899, 175.3892383963262 71.13305469741685, 172.6951860154184 71.06413862181142, 170 71.04114631372477, 167.3048139845817 71.06413862181142, 164.6107616036738 71.13305469741685, 161.9189870868405 71.24771223935899, 159.2306565069547 71.40780822427131, 156.5469703768952 71.61292011052528, 153.8691783787868 71.86250749582634, 151.1985971558742 72.15591420070814, 148.5366323177415 72.49237074227349, 145.8848061324606 72.87099715447789, 143.2447928470329 73.29080610270987, 140.6184642559477 73.75070623083732, 138.0079491290955 74.24950566735154, 135.4157115760171 74.78591560226792, 132.8446556226422 75.35855382562059, 130.298266634011 75.96594808774422, 127.7808054444247 76.60653909439564, 125.297579381021 77.27868287465098, 122.8553279585382 77.98065213609378, 120.4627838484314 78.71063601290778, 118.1315092938034 79.46673724757696, 115.8771792473634 80.24696518658172, 113.7216156487906 81.04922172615056, 111.6961386277084 81.87127488555058, 109.8473425498369 82.71070954885926, 108.2476045011608 83.56483344698344, 107.0155002426842 84.43048870300994, 106.3588232093052 85.30364518383632, 106.6749783147452 86.17842823657838, 108.817642279252 87.04444381479971, 114.9241221898241 87.87787220623962, 131.2297223621625 88.60416414060992, 169.9999999999986 88.95405294877004, -151.229722362164 88.60416414060995, -134.9241221898247 87.87787220623966, -128.8176422792522 87.04444381479976, -126.6749783147451 86.17842823657844, -126.3588232093052 85.30364518383638, -127.0155002426841 84.43048870301, -128.2476045011607 83.5648334469835, -129.8473425498368 82.71070954885931, -131.6961386277082 81.87127488555062, -133.7216156487904 81.04922172615062, -135.8771792473632 80.24696518658178, -138.1315092938032 79.46673724757702, -140.4627838484312 78.71063601290784, -142.855327958538 77.98065213609385, -145.2975793810207 77.27868287465104, -147.7808054444245 76.6065390943957, -147.7808054444246 76.60653909439564), crs=+init=epsg:4326 +no_defs)\n",
      "(Pdb) c\n"
     ]
    },
    {
     "name": "stderr",
     "output_type": "stream",
     "text": [
      "TopologyException: Input geom 1 is invalid: Self-intersection at or near point 161.79646591154537 71.255008644190397 at 161.79646591154537 71.255008644190397\n"
     ]
    },
    {
     "ename": "ValueError",
     "evalue": "No Shapely geometry can be created from null value",
     "output_type": "error",
     "traceback": [
      "\u001b[0;31m---------------------------------------------------------------------------\u001b[0m",
      "\u001b[0;31mValueError\u001b[0m                                Traceback (most recent call last)",
      "\u001b[0;32m<ipython-input-23-80e881ecc241>\u001b[0m in \u001b[0;36m<module>\u001b[0;34m\u001b[0m\n\u001b[1;32m      4\u001b[0m     \u001b[0;32mreturn\u001b[0m \u001b[0mres\u001b[0m\u001b[0;34m\u001b[0m\u001b[0m\n\u001b[1;32m      5\u001b[0m \u001b[0;34m\u001b[0m\u001b[0m\n\u001b[0;32m----> 6\u001b[0;31m \u001b[0mfoo\u001b[0m\u001b[0;34m(\u001b[0m\u001b[0;34m)\u001b[0m\u001b[0;34m\u001b[0m\u001b[0m\n\u001b[0m",
      "\u001b[0;32m<ipython-input-23-80e881ecc241>\u001b[0m in \u001b[0;36mfoo\u001b[0;34m()\u001b[0m\n\u001b[1;32m      1\u001b[0m \u001b[0;32mdef\u001b[0m \u001b[0mfoo\u001b[0m\u001b[0;34m(\u001b[0m\u001b[0;34m)\u001b[0m\u001b[0;34m:\u001b[0m\u001b[0;34m\u001b[0m\u001b[0m\n\u001b[1;32m      2\u001b[0m     \u001b[0;32mimport\u001b[0m \u001b[0mpdb\u001b[0m\u001b[0;34m;\u001b[0m \u001b[0mpdb\u001b[0m\u001b[0;34m.\u001b[0m\u001b[0mset_trace\u001b[0m\u001b[0;34m(\u001b[0m\u001b[0;34m)\u001b[0m\u001b[0;34m\u001b[0m\u001b[0m\n\u001b[0;32m----> 3\u001b[0;31m     \u001b[0mres\u001b[0m \u001b[0;34m=\u001b[0m \u001b[0mcut_by_antimeridian\u001b[0m\u001b[0;34m(\u001b[0m\u001b[0mp_off\u001b[0m\u001b[0;34m.\u001b[0m\u001b[0mbuffer\u001b[0m\u001b[0;34m(\u001b[0m\u001b[0;36m1_000_000\u001b[0m\u001b[0;34m,\u001b[0m \u001b[0mgeodesic\u001b[0m\u001b[0;34m=\u001b[0m\u001b[0;32mTrue\u001b[0m\u001b[0;34m)\u001b[0m\u001b[0;34m)\u001b[0m\u001b[0;34m\u001b[0m\u001b[0m\n\u001b[0m\u001b[1;32m      4\u001b[0m     \u001b[0;32mreturn\u001b[0m \u001b[0mres\u001b[0m\u001b[0;34m\u001b[0m\u001b[0m\n\u001b[1;32m      5\u001b[0m \u001b[0;34m\u001b[0m\u001b[0m\n",
      "\u001b[0;32m~/Satellogic/telluric-team/telluric/telluric/util/antimeridian.py\u001b[0m in \u001b[0;36mcut_by_antimeridian\u001b[0;34m(geometry)\u001b[0m\n\u001b[1;32m     25\u001b[0m     \u001b[0;31m# TODO: Support shapes that cross the meridian several times (really wide ones)\u001b[0m\u001b[0;34m\u001b[0m\u001b[0;34m\u001b[0m\u001b[0m\n\u001b[1;32m     26\u001b[0m     \u001b[0mcrs\u001b[0m \u001b[0;34m=\u001b[0m \u001b[0mgeometry\u001b[0m\u001b[0;34m.\u001b[0m\u001b[0mcrs\u001b[0m\u001b[0;34m\u001b[0m\u001b[0m\n\u001b[0;32m---> 27\u001b[0;31m     \u001b[0mshapes_col\u001b[0m \u001b[0;34m=\u001b[0m \u001b[0msplit\u001b[0m\u001b[0;34m(\u001b[0m\u001b[0mgeometry\u001b[0m\u001b[0;34m.\u001b[0m\u001b[0mget_shape\u001b[0m\u001b[0;34m(\u001b[0m\u001b[0mcrs\u001b[0m\u001b[0;34m)\u001b[0m\u001b[0;34m,\u001b[0m \u001b[0mANTIMERIDIAN\u001b[0m\u001b[0;34m.\u001b[0m\u001b[0mget_shape\u001b[0m\u001b[0;34m(\u001b[0m\u001b[0mcrs\u001b[0m\u001b[0;34m)\u001b[0m\u001b[0;34m)\u001b[0m\u001b[0;34m\u001b[0m\u001b[0m\n\u001b[0m\u001b[1;32m     28\u001b[0m \u001b[0;34m\u001b[0m\u001b[0m\n\u001b[1;32m     29\u001b[0m     \u001b[0;32mif\u001b[0m \u001b[0mlen\u001b[0m\u001b[0;34m(\u001b[0m\u001b[0mshapes_col\u001b[0m\u001b[0;34m)\u001b[0m \u001b[0;34m==\u001b[0m \u001b[0;36m1\u001b[0m\u001b[0;34m:\u001b[0m\u001b[0;34m\u001b[0m\u001b[0m\n",
      "\u001b[0;32m~/.miniconda36/envs/tp36/lib/python3.6/site-packages/shapely/ops.py\u001b[0m in \u001b[0;36msplit\u001b[0;34m(geom, splitter)\u001b[0m\n\u001b[1;32m    473\u001b[0m             \u001b[0;32mraise\u001b[0m \u001b[0mValueError\u001b[0m\u001b[0;34m(\u001b[0m\u001b[0;34m\"Splitting %s geometry is not supported\"\u001b[0m \u001b[0;34m%\u001b[0m \u001b[0mgeom\u001b[0m\u001b[0;34m.\u001b[0m\u001b[0mtype\u001b[0m\u001b[0;34m)\u001b[0m\u001b[0;34m\u001b[0m\u001b[0m\n\u001b[1;32m    474\u001b[0m \u001b[0;34m\u001b[0m\u001b[0m\n\u001b[0;32m--> 475\u001b[0;31m         \u001b[0;32mreturn\u001b[0m \u001b[0mGeometryCollection\u001b[0m\u001b[0;34m(\u001b[0m\u001b[0msplit_func\u001b[0m\u001b[0;34m(\u001b[0m\u001b[0mgeom\u001b[0m\u001b[0;34m,\u001b[0m \u001b[0msplitter\u001b[0m\u001b[0;34m)\u001b[0m\u001b[0;34m)\u001b[0m\u001b[0;34m\u001b[0m\u001b[0m\n\u001b[0m\u001b[1;32m    476\u001b[0m \u001b[0;34m\u001b[0m\u001b[0m\n\u001b[1;32m    477\u001b[0m \u001b[0msplit\u001b[0m \u001b[0;34m=\u001b[0m \u001b[0mSplitOp\u001b[0m\u001b[0;34m.\u001b[0m\u001b[0msplit\u001b[0m\u001b[0;34m\u001b[0m\u001b[0m\n",
      "\u001b[0;32m~/.miniconda36/envs/tp36/lib/python3.6/site-packages/shapely/ops.py\u001b[0m in \u001b[0;36m_split_polygon_with_line\u001b[0;34m(poly, splitter)\u001b[0m\n\u001b[1;32m    341\u001b[0m         \u001b[0;31m# that's why we test if the original polygon (poly) contains\u001b[0m\u001b[0;34m\u001b[0m\u001b[0;34m\u001b[0m\u001b[0m\n\u001b[1;32m    342\u001b[0m         \u001b[0;31m# an inner point of polygonized geometry (pg)\u001b[0m\u001b[0;34m\u001b[0m\u001b[0;34m\u001b[0m\u001b[0m\n\u001b[0;32m--> 343\u001b[0;31m         \u001b[0;32mreturn\u001b[0m \u001b[0;34m[\u001b[0m\u001b[0mpg\u001b[0m \u001b[0;32mfor\u001b[0m \u001b[0mpg\u001b[0m \u001b[0;32min\u001b[0m \u001b[0mpolygonize\u001b[0m\u001b[0;34m(\u001b[0m\u001b[0munion\u001b[0m\u001b[0;34m)\u001b[0m \u001b[0;32mif\u001b[0m \u001b[0mpoly\u001b[0m\u001b[0;34m.\u001b[0m\u001b[0mcontains\u001b[0m\u001b[0;34m(\u001b[0m\u001b[0mpg\u001b[0m\u001b[0;34m.\u001b[0m\u001b[0mrepresentative_point\u001b[0m\u001b[0;34m(\u001b[0m\u001b[0;34m)\u001b[0m\u001b[0;34m)\u001b[0m\u001b[0;34m]\u001b[0m\u001b[0;34m\u001b[0m\u001b[0m\n\u001b[0m\u001b[1;32m    344\u001b[0m \u001b[0;34m\u001b[0m\u001b[0m\n\u001b[1;32m    345\u001b[0m     \u001b[0;34m@\u001b[0m\u001b[0mstaticmethod\u001b[0m\u001b[0;34m\u001b[0m\u001b[0m\n",
      "\u001b[0;32m~/.miniconda36/envs/tp36/lib/python3.6/site-packages/shapely/ops.py\u001b[0m in \u001b[0;36m<listcomp>\u001b[0;34m(.0)\u001b[0m\n\u001b[1;32m    341\u001b[0m         \u001b[0;31m# that's why we test if the original polygon (poly) contains\u001b[0m\u001b[0;34m\u001b[0m\u001b[0;34m\u001b[0m\u001b[0m\n\u001b[1;32m    342\u001b[0m         \u001b[0;31m# an inner point of polygonized geometry (pg)\u001b[0m\u001b[0;34m\u001b[0m\u001b[0;34m\u001b[0m\u001b[0m\n\u001b[0;32m--> 343\u001b[0;31m         \u001b[0;32mreturn\u001b[0m \u001b[0;34m[\u001b[0m\u001b[0mpg\u001b[0m \u001b[0;32mfor\u001b[0m \u001b[0mpg\u001b[0m \u001b[0;32min\u001b[0m \u001b[0mpolygonize\u001b[0m\u001b[0;34m(\u001b[0m\u001b[0munion\u001b[0m\u001b[0;34m)\u001b[0m \u001b[0;32mif\u001b[0m \u001b[0mpoly\u001b[0m\u001b[0;34m.\u001b[0m\u001b[0mcontains\u001b[0m\u001b[0;34m(\u001b[0m\u001b[0mpg\u001b[0m\u001b[0;34m.\u001b[0m\u001b[0mrepresentative_point\u001b[0m\u001b[0;34m(\u001b[0m\u001b[0;34m)\u001b[0m\u001b[0;34m)\u001b[0m\u001b[0;34m]\u001b[0m\u001b[0;34m\u001b[0m\u001b[0m\n\u001b[0m\u001b[1;32m    344\u001b[0m \u001b[0;34m\u001b[0m\u001b[0m\n\u001b[1;32m    345\u001b[0m     \u001b[0;34m@\u001b[0m\u001b[0mstaticmethod\u001b[0m\u001b[0;34m\u001b[0m\u001b[0m\n",
      "\u001b[0;32m~/.miniconda36/envs/tp36/lib/python3.6/site-packages/shapely/impl.py\u001b[0m in \u001b[0;36mwrapper\u001b[0;34m(*args, **kwargs)\u001b[0m\n\u001b[1;32m     35\u001b[0m     \u001b[0;32mdef\u001b[0m \u001b[0mwrapper\u001b[0m\u001b[0;34m(\u001b[0m\u001b[0;34m*\u001b[0m\u001b[0margs\u001b[0m\u001b[0;34m,\u001b[0m \u001b[0;34m**\u001b[0m\u001b[0mkwargs\u001b[0m\u001b[0;34m)\u001b[0m\u001b[0;34m:\u001b[0m\u001b[0;34m\u001b[0m\u001b[0m\n\u001b[1;32m     36\u001b[0m         \u001b[0;32mtry\u001b[0m\u001b[0;34m:\u001b[0m\u001b[0;34m\u001b[0m\u001b[0m\n\u001b[0;32m---> 37\u001b[0;31m             \u001b[0;32mreturn\u001b[0m \u001b[0mfunc\u001b[0m\u001b[0;34m(\u001b[0m\u001b[0;34m*\u001b[0m\u001b[0margs\u001b[0m\u001b[0;34m,\u001b[0m \u001b[0;34m**\u001b[0m\u001b[0mkwargs\u001b[0m\u001b[0;34m)\u001b[0m\u001b[0;34m\u001b[0m\u001b[0m\n\u001b[0m\u001b[1;32m     38\u001b[0m         \u001b[0;32mexcept\u001b[0m \u001b[0mKeyError\u001b[0m\u001b[0;34m:\u001b[0m\u001b[0;34m\u001b[0m\u001b[0m\n\u001b[1;32m     39\u001b[0m             raise ImplementationError(\n",
      "\u001b[0;32m~/.miniconda36/envs/tp36/lib/python3.6/site-packages/shapely/geometry/base.py\u001b[0m in \u001b[0;36mrepresentative_point\u001b[0;34m(self)\u001b[0m\n\u001b[1;32m    474\u001b[0m     \u001b[0;32mdef\u001b[0m \u001b[0mrepresentative_point\u001b[0m\u001b[0;34m(\u001b[0m\u001b[0mself\u001b[0m\u001b[0;34m)\u001b[0m\u001b[0;34m:\u001b[0m\u001b[0;34m\u001b[0m\u001b[0m\n\u001b[1;32m    475\u001b[0m         \u001b[0;34m\"\"\"Returns a point guaranteed to be within the object, cheaply.\"\"\"\u001b[0m\u001b[0;34m\u001b[0m\u001b[0m\n\u001b[0;32m--> 476\u001b[0;31m         \u001b[0;32mreturn\u001b[0m \u001b[0mgeom_factory\u001b[0m\u001b[0;34m(\u001b[0m\u001b[0mself\u001b[0m\u001b[0;34m.\u001b[0m\u001b[0mimpl\u001b[0m\u001b[0;34m[\u001b[0m\u001b[0;34m'representative_point'\u001b[0m\u001b[0;34m]\u001b[0m\u001b[0;34m(\u001b[0m\u001b[0mself\u001b[0m\u001b[0;34m)\u001b[0m\u001b[0;34m)\u001b[0m\u001b[0;34m\u001b[0m\u001b[0m\n\u001b[0m\u001b[1;32m    477\u001b[0m \u001b[0;34m\u001b[0m\u001b[0m\n\u001b[1;32m    478\u001b[0m     \u001b[0;34m@\u001b[0m\u001b[0mproperty\u001b[0m\u001b[0;34m\u001b[0m\u001b[0m\n",
      "\u001b[0;32m~/.miniconda36/envs/tp36/lib/python3.6/site-packages/shapely/geometry/base.py\u001b[0m in \u001b[0;36mgeom_factory\u001b[0;34m(g, parent)\u001b[0m\n\u001b[1;32m     74\u001b[0m     \u001b[0;31m# Abstract geometry factory for use with topological methods below\u001b[0m\u001b[0;34m\u001b[0m\u001b[0;34m\u001b[0m\u001b[0m\n\u001b[1;32m     75\u001b[0m     \u001b[0;32mif\u001b[0m \u001b[0;32mnot\u001b[0m \u001b[0mg\u001b[0m\u001b[0;34m:\u001b[0m\u001b[0;34m\u001b[0m\u001b[0m\n\u001b[0;32m---> 76\u001b[0;31m         \u001b[0;32mraise\u001b[0m \u001b[0mValueError\u001b[0m\u001b[0;34m(\u001b[0m\u001b[0;34m\"No Shapely geometry can be created from null value\"\u001b[0m\u001b[0;34m)\u001b[0m\u001b[0;34m\u001b[0m\u001b[0m\n\u001b[0m\u001b[1;32m     77\u001b[0m     \u001b[0mob\u001b[0m \u001b[0;34m=\u001b[0m \u001b[0mBaseGeometry\u001b[0m\u001b[0;34m(\u001b[0m\u001b[0;34m)\u001b[0m\u001b[0;34m\u001b[0m\u001b[0m\n\u001b[1;32m     78\u001b[0m     \u001b[0mgeom_type\u001b[0m \u001b[0;34m=\u001b[0m \u001b[0mgeometry_type_name\u001b[0m\u001b[0;34m(\u001b[0m\u001b[0mg\u001b[0m\u001b[0;34m)\u001b[0m\u001b[0;34m\u001b[0m\u001b[0m\n",
      "\u001b[0;31mValueError\u001b[0m: No Shapely geometry can be created from null value"
     ]
    }
   ],
   "source": [
    "def foo():\n",
    "    import pdb; pdb.set_trace()\n",
    "    res = cut_by_antimeridian(p_off.buffer(1_000_000, geodesic=True))\n",
    "    return res\n",
    "\n",
    "foo()"
   ]
  },
  {
   "cell_type": "code",
   "execution_count": 22,
   "metadata": {},
   "outputs": [
    {
     "name": "stdout",
     "output_type": "stream",
     "text": [
      "> \u001b[0;32m/home/juanlu/.miniconda36/envs/tp36/lib/python3.6/site-packages/shapely/geometry/base.py\u001b[0m(76)\u001b[0;36mgeom_factory\u001b[0;34m()\u001b[0m\n",
      "\u001b[0;32m     74 \u001b[0;31m    \u001b[0;31m# Abstract geometry factory for use with topological methods below\u001b[0m\u001b[0;34m\u001b[0m\u001b[0;34m\u001b[0m\u001b[0m\n",
      "\u001b[0m\u001b[0;32m     75 \u001b[0;31m    \u001b[0;32mif\u001b[0m \u001b[0;32mnot\u001b[0m \u001b[0mg\u001b[0m\u001b[0;34m:\u001b[0m\u001b[0;34m\u001b[0m\u001b[0m\n",
      "\u001b[0m\u001b[0;32m---> 76 \u001b[0;31m        \u001b[0;32mraise\u001b[0m \u001b[0mValueError\u001b[0m\u001b[0;34m(\u001b[0m\u001b[0;34m\"No Shapely geometry can be created from null value\"\u001b[0m\u001b[0;34m)\u001b[0m\u001b[0;34m\u001b[0m\u001b[0m\n",
      "\u001b[0m\u001b[0;32m     77 \u001b[0;31m    \u001b[0mob\u001b[0m \u001b[0;34m=\u001b[0m \u001b[0mBaseGeometry\u001b[0m\u001b[0;34m(\u001b[0m\u001b[0;34m)\u001b[0m\u001b[0;34m\u001b[0m\u001b[0m\n",
      "\u001b[0m\u001b[0;32m     78 \u001b[0;31m    \u001b[0mgeom_type\u001b[0m \u001b[0;34m=\u001b[0m \u001b[0mgeometry_type_name\u001b[0m\u001b[0;34m(\u001b[0m\u001b[0mg\u001b[0m\u001b[0;34m)\u001b[0m\u001b[0;34m\u001b[0m\u001b[0m\n",
      "\u001b[0m\n",
      "ipdb> u\n",
      "> \u001b[0;32m/home/juanlu/.miniconda36/envs/tp36/lib/python3.6/site-packages/shapely/geometry/base.py\u001b[0m(476)\u001b[0;36mrepresentative_point\u001b[0;34m()\u001b[0m\n",
      "\u001b[0;32m    474 \u001b[0;31m    \u001b[0;32mdef\u001b[0m \u001b[0mrepresentative_point\u001b[0m\u001b[0;34m(\u001b[0m\u001b[0mself\u001b[0m\u001b[0;34m)\u001b[0m\u001b[0;34m:\u001b[0m\u001b[0;34m\u001b[0m\u001b[0m\n",
      "\u001b[0m\u001b[0;32m    475 \u001b[0;31m        \u001b[0;34m\"\"\"Returns a point guaranteed to be within the object, cheaply.\"\"\"\u001b[0m\u001b[0;34m\u001b[0m\u001b[0m\n",
      "\u001b[0m\u001b[0;32m--> 476 \u001b[0;31m        \u001b[0;32mreturn\u001b[0m \u001b[0mgeom_factory\u001b[0m\u001b[0;34m(\u001b[0m\u001b[0mself\u001b[0m\u001b[0;34m.\u001b[0m\u001b[0mimpl\u001b[0m\u001b[0;34m[\u001b[0m\u001b[0;34m'representative_point'\u001b[0m\u001b[0;34m]\u001b[0m\u001b[0;34m(\u001b[0m\u001b[0mself\u001b[0m\u001b[0;34m)\u001b[0m\u001b[0;34m)\u001b[0m\u001b[0;34m\u001b[0m\u001b[0m\n",
      "\u001b[0m\u001b[0;32m    477 \u001b[0;31m\u001b[0;34m\u001b[0m\u001b[0m\n",
      "\u001b[0m\u001b[0;32m    478 \u001b[0;31m    \u001b[0;34m@\u001b[0m\u001b[0mproperty\u001b[0m\u001b[0;34m\u001b[0m\u001b[0m\n",
      "\u001b[0m\n",
      "ipdb> u\n",
      "> \u001b[0;32m/home/juanlu/.miniconda36/envs/tp36/lib/python3.6/site-packages/shapely/impl.py\u001b[0m(41)\u001b[0;36mwrapper\u001b[0;34m()\u001b[0m\n",
      "\u001b[0;32m     39 \u001b[0;31m            raise ImplementationError(\n",
      "\u001b[0m\u001b[0;32m     40 \u001b[0;31m                \u001b[0;34m\"Method '%s' not provided by registered \"\u001b[0m\u001b[0;34m\u001b[0m\u001b[0m\n",
      "\u001b[0m\u001b[0;32m---> 41 \u001b[0;31m                \"implementation '%s'\" % (func.__name__, args[0].impl))\n",
      "\u001b[0m\u001b[0;32m     42 \u001b[0;31m    \u001b[0;32mreturn\u001b[0m \u001b[0mwrapper\u001b[0m\u001b[0;34m\u001b[0m\u001b[0m\n",
      "\u001b[0m\u001b[0;32m     43 \u001b[0;31m\u001b[0;34m\u001b[0m\u001b[0m\n",
      "\u001b[0m\n",
      "ipdb> u\n",
      "> \u001b[0;32m/home/juanlu/.miniconda36/envs/tp36/lib/python3.6/site-packages/shapely/ops.py\u001b[0m(343)\u001b[0;36m<listcomp>\u001b[0;34m()\u001b[0m\n",
      "\u001b[0;32m    341 \u001b[0;31m        \u001b[0;31m# that's why we test if the original polygon (poly) contains\u001b[0m\u001b[0;34m\u001b[0m\u001b[0;34m\u001b[0m\u001b[0m\n",
      "\u001b[0m\u001b[0;32m    342 \u001b[0;31m        \u001b[0;31m# an inner point of polygonized geometry (pg)\u001b[0m\u001b[0;34m\u001b[0m\u001b[0;34m\u001b[0m\u001b[0m\n",
      "\u001b[0m\u001b[0;32m--> 343 \u001b[0;31m        \u001b[0;32mreturn\u001b[0m \u001b[0;34m[\u001b[0m\u001b[0mpg\u001b[0m \u001b[0;32mfor\u001b[0m \u001b[0mpg\u001b[0m \u001b[0;32min\u001b[0m \u001b[0mpolygonize\u001b[0m\u001b[0;34m(\u001b[0m\u001b[0munion\u001b[0m\u001b[0;34m)\u001b[0m \u001b[0;32mif\u001b[0m \u001b[0mpoly\u001b[0m\u001b[0;34m.\u001b[0m\u001b[0mcontains\u001b[0m\u001b[0;34m(\u001b[0m\u001b[0mpg\u001b[0m\u001b[0;34m.\u001b[0m\u001b[0mrepresentative_point\u001b[0m\u001b[0;34m(\u001b[0m\u001b[0;34m)\u001b[0m\u001b[0;34m)\u001b[0m\u001b[0;34m]\u001b[0m\u001b[0;34m\u001b[0m\u001b[0m\n",
      "\u001b[0m\u001b[0;32m    344 \u001b[0;31m\u001b[0;34m\u001b[0m\u001b[0m\n",
      "\u001b[0m\u001b[0;32m    345 \u001b[0;31m    \u001b[0;34m@\u001b[0m\u001b[0mstaticmethod\u001b[0m\u001b[0;34m\u001b[0m\u001b[0m\n",
      "\u001b[0m\n",
      "ipdb> u\n",
      "> \u001b[0;32m/home/juanlu/.miniconda36/envs/tp36/lib/python3.6/site-packages/shapely/ops.py\u001b[0m(343)\u001b[0;36m_split_polygon_with_line\u001b[0;34m()\u001b[0m\n",
      "\u001b[0;32m    341 \u001b[0;31m        \u001b[0;31m# that's why we test if the original polygon (poly) contains\u001b[0m\u001b[0;34m\u001b[0m\u001b[0;34m\u001b[0m\u001b[0m\n",
      "\u001b[0m\u001b[0;32m    342 \u001b[0;31m        \u001b[0;31m# an inner point of polygonized geometry (pg)\u001b[0m\u001b[0;34m\u001b[0m\u001b[0;34m\u001b[0m\u001b[0m\n",
      "\u001b[0m\u001b[0;32m--> 343 \u001b[0;31m        \u001b[0;32mreturn\u001b[0m \u001b[0;34m[\u001b[0m\u001b[0mpg\u001b[0m \u001b[0;32mfor\u001b[0m \u001b[0mpg\u001b[0m \u001b[0;32min\u001b[0m \u001b[0mpolygonize\u001b[0m\u001b[0;34m(\u001b[0m\u001b[0munion\u001b[0m\u001b[0;34m)\u001b[0m \u001b[0;32mif\u001b[0m \u001b[0mpoly\u001b[0m\u001b[0;34m.\u001b[0m\u001b[0mcontains\u001b[0m\u001b[0;34m(\u001b[0m\u001b[0mpg\u001b[0m\u001b[0;34m.\u001b[0m\u001b[0mrepresentative_point\u001b[0m\u001b[0;34m(\u001b[0m\u001b[0;34m)\u001b[0m\u001b[0;34m)\u001b[0m\u001b[0;34m]\u001b[0m\u001b[0;34m\u001b[0m\u001b[0m\n",
      "\u001b[0m\u001b[0;32m    344 \u001b[0;31m\u001b[0;34m\u001b[0m\u001b[0m\n",
      "\u001b[0m\u001b[0;32m    345 \u001b[0;31m    \u001b[0;34m@\u001b[0m\u001b[0mstaticmethod\u001b[0m\u001b[0;34m\u001b[0m\u001b[0m\n",
      "\u001b[0m\n",
      "ipdb> u\n",
      "> \u001b[0;32m/home/juanlu/.miniconda36/envs/tp36/lib/python3.6/site-packages/shapely/ops.py\u001b[0m(475)\u001b[0;36msplit\u001b[0;34m()\u001b[0m\n",
      "\u001b[0;32m    473 \u001b[0;31m            \u001b[0;32mraise\u001b[0m \u001b[0mValueError\u001b[0m\u001b[0;34m(\u001b[0m\u001b[0;34m\"Splitting %s geometry is not supported\"\u001b[0m \u001b[0;34m%\u001b[0m \u001b[0mgeom\u001b[0m\u001b[0;34m.\u001b[0m\u001b[0mtype\u001b[0m\u001b[0;34m)\u001b[0m\u001b[0;34m\u001b[0m\u001b[0m\n",
      "\u001b[0m\u001b[0;32m    474 \u001b[0;31m\u001b[0;34m\u001b[0m\u001b[0m\n",
      "\u001b[0m\u001b[0;32m--> 475 \u001b[0;31m        \u001b[0;32mreturn\u001b[0m \u001b[0mGeometryCollection\u001b[0m\u001b[0;34m(\u001b[0m\u001b[0msplit_func\u001b[0m\u001b[0;34m(\u001b[0m\u001b[0mgeom\u001b[0m\u001b[0;34m,\u001b[0m \u001b[0msplitter\u001b[0m\u001b[0;34m)\u001b[0m\u001b[0;34m)\u001b[0m\u001b[0;34m\u001b[0m\u001b[0m\n",
      "\u001b[0m\u001b[0;32m    476 \u001b[0;31m\u001b[0;34m\u001b[0m\u001b[0m\n",
      "\u001b[0m\u001b[0;32m    477 \u001b[0;31m\u001b[0msplit\u001b[0m \u001b[0;34m=\u001b[0m \u001b[0mSplitOp\u001b[0m\u001b[0;34m.\u001b[0m\u001b[0msplit\u001b[0m\u001b[0;34m\u001b[0m\u001b[0m\n",
      "\u001b[0m\n",
      "ipdb> p geom\n",
      "<shapely.geometry.polygon.Polygon object at 0x7fd1d36a2a58>\n",
      "ipdb> p len(geom)\n",
      "*** TypeError: object of type 'Polygon' has no len()\n",
      "ipdb> p geom.envelope\n",
      "<shapely.geometry.polygon.Polygon object at 0x7fd1d35d37b8>\n",
      "ipdb> p geom.bounds\n",
      "(-179.2306565069546, 71.04114631372477, 178.08101291315958, 88.95405294877004)\n",
      "ipdb> p splitter\n",
      "<shapely.geometry.linestring.LineString object at 0x7fd1f7f1aba8>\n",
      "ipdb> q\n"
     ]
    }
   ],
   "source": [
    "%debug"
   ]
  },
  {
   "cell_type": "code",
   "execution_count": 20,
   "metadata": {},
   "outputs": [
    {
     "name": "stderr",
     "output_type": "stream",
     "text": [
      "TopologyException: Input geom 1 is invalid: Self-intersection at or near point 161.79646591154537 71.255008644190397 at 161.79646591154537 71.255008644190397\n"
     ]
    },
    {
     "ename": "ValueError",
     "evalue": "No Shapely geometry can be created from null value",
     "output_type": "error",
     "traceback": [
      "\u001b[0;31m---------------------------------------------------------------------------\u001b[0m",
      "\u001b[0;31mValueError\u001b[0m                                Traceback (most recent call last)",
      "\u001b[0;32m<ipython-input-20-72cd0b64cc54>\u001b[0m in \u001b[0;36m<module>\u001b[0;34m\u001b[0m\n\u001b[0;32m----> 1\u001b[0;31m \u001b[0mcut_by_antimeridian\u001b[0m\u001b[0;34m(\u001b[0m\u001b[0mp_off\u001b[0m\u001b[0;34m.\u001b[0m\u001b[0mbuffer\u001b[0m\u001b[0;34m(\u001b[0m\u001b[0;36m1_000_000\u001b[0m\u001b[0;34m,\u001b[0m \u001b[0mgeodesic\u001b[0m\u001b[0;34m=\u001b[0m\u001b[0;32mTrue\u001b[0m\u001b[0;34m)\u001b[0m\u001b[0;34m)\u001b[0m\u001b[0;34m.\u001b[0m\u001b[0mplot\u001b[0m\u001b[0;34m(\u001b[0m\u001b[0;34m)\u001b[0m\u001b[0;34m\u001b[0m\u001b[0m\n\u001b[0m",
      "\u001b[0;32m~/Satellogic/telluric-team/telluric/telluric/util/antimeridian.py\u001b[0m in \u001b[0;36mcut_by_antimeridian\u001b[0;34m(geometry)\u001b[0m\n\u001b[1;32m     25\u001b[0m     \u001b[0;31m# TODO: Support shapes that cross the meridian several times (really wide ones)\u001b[0m\u001b[0;34m\u001b[0m\u001b[0;34m\u001b[0m\u001b[0m\n\u001b[1;32m     26\u001b[0m     \u001b[0mcrs\u001b[0m \u001b[0;34m=\u001b[0m \u001b[0mgeometry\u001b[0m\u001b[0;34m.\u001b[0m\u001b[0mcrs\u001b[0m\u001b[0;34m\u001b[0m\u001b[0m\n\u001b[0;32m---> 27\u001b[0;31m     \u001b[0mshapes_col\u001b[0m \u001b[0;34m=\u001b[0m \u001b[0msplit\u001b[0m\u001b[0;34m(\u001b[0m\u001b[0mgeometry\u001b[0m\u001b[0;34m.\u001b[0m\u001b[0mget_shape\u001b[0m\u001b[0;34m(\u001b[0m\u001b[0mcrs\u001b[0m\u001b[0;34m)\u001b[0m\u001b[0;34m,\u001b[0m \u001b[0mANTIMERIDIAN\u001b[0m\u001b[0;34m.\u001b[0m\u001b[0mget_shape\u001b[0m\u001b[0;34m(\u001b[0m\u001b[0mcrs\u001b[0m\u001b[0;34m)\u001b[0m\u001b[0;34m)\u001b[0m\u001b[0;34m\u001b[0m\u001b[0m\n\u001b[0m\u001b[1;32m     28\u001b[0m \u001b[0;34m\u001b[0m\u001b[0m\n\u001b[1;32m     29\u001b[0m     \u001b[0;32mif\u001b[0m \u001b[0mlen\u001b[0m\u001b[0;34m(\u001b[0m\u001b[0mshapes_col\u001b[0m\u001b[0;34m)\u001b[0m \u001b[0;34m==\u001b[0m \u001b[0;36m1\u001b[0m\u001b[0;34m:\u001b[0m\u001b[0;34m\u001b[0m\u001b[0m\n",
      "\u001b[0;32m~/.miniconda36/envs/tp36/lib/python3.6/site-packages/shapely/ops.py\u001b[0m in \u001b[0;36msplit\u001b[0;34m(geom, splitter)\u001b[0m\n\u001b[1;32m    473\u001b[0m             \u001b[0;32mraise\u001b[0m \u001b[0mValueError\u001b[0m\u001b[0;34m(\u001b[0m\u001b[0;34m\"Splitting %s geometry is not supported\"\u001b[0m \u001b[0;34m%\u001b[0m \u001b[0mgeom\u001b[0m\u001b[0;34m.\u001b[0m\u001b[0mtype\u001b[0m\u001b[0;34m)\u001b[0m\u001b[0;34m\u001b[0m\u001b[0m\n\u001b[1;32m    474\u001b[0m \u001b[0;34m\u001b[0m\u001b[0m\n\u001b[0;32m--> 475\u001b[0;31m         \u001b[0;32mreturn\u001b[0m \u001b[0mGeometryCollection\u001b[0m\u001b[0;34m(\u001b[0m\u001b[0msplit_func\u001b[0m\u001b[0;34m(\u001b[0m\u001b[0mgeom\u001b[0m\u001b[0;34m,\u001b[0m \u001b[0msplitter\u001b[0m\u001b[0;34m)\u001b[0m\u001b[0;34m)\u001b[0m\u001b[0;34m\u001b[0m\u001b[0m\n\u001b[0m\u001b[1;32m    476\u001b[0m \u001b[0;34m\u001b[0m\u001b[0m\n\u001b[1;32m    477\u001b[0m \u001b[0msplit\u001b[0m \u001b[0;34m=\u001b[0m \u001b[0mSplitOp\u001b[0m\u001b[0;34m.\u001b[0m\u001b[0msplit\u001b[0m\u001b[0;34m\u001b[0m\u001b[0m\n",
      "\u001b[0;32m~/.miniconda36/envs/tp36/lib/python3.6/site-packages/shapely/ops.py\u001b[0m in \u001b[0;36m_split_polygon_with_line\u001b[0;34m(poly, splitter)\u001b[0m\n\u001b[1;32m    341\u001b[0m         \u001b[0;31m# that's why we test if the original polygon (poly) contains\u001b[0m\u001b[0;34m\u001b[0m\u001b[0;34m\u001b[0m\u001b[0m\n\u001b[1;32m    342\u001b[0m         \u001b[0;31m# an inner point of polygonized geometry (pg)\u001b[0m\u001b[0;34m\u001b[0m\u001b[0;34m\u001b[0m\u001b[0m\n\u001b[0;32m--> 343\u001b[0;31m         \u001b[0;32mreturn\u001b[0m \u001b[0;34m[\u001b[0m\u001b[0mpg\u001b[0m \u001b[0;32mfor\u001b[0m \u001b[0mpg\u001b[0m \u001b[0;32min\u001b[0m \u001b[0mpolygonize\u001b[0m\u001b[0;34m(\u001b[0m\u001b[0munion\u001b[0m\u001b[0;34m)\u001b[0m \u001b[0;32mif\u001b[0m \u001b[0mpoly\u001b[0m\u001b[0;34m.\u001b[0m\u001b[0mcontains\u001b[0m\u001b[0;34m(\u001b[0m\u001b[0mpg\u001b[0m\u001b[0;34m.\u001b[0m\u001b[0mrepresentative_point\u001b[0m\u001b[0;34m(\u001b[0m\u001b[0;34m)\u001b[0m\u001b[0;34m)\u001b[0m\u001b[0;34m]\u001b[0m\u001b[0;34m\u001b[0m\u001b[0m\n\u001b[0m\u001b[1;32m    344\u001b[0m \u001b[0;34m\u001b[0m\u001b[0m\n\u001b[1;32m    345\u001b[0m     \u001b[0;34m@\u001b[0m\u001b[0mstaticmethod\u001b[0m\u001b[0;34m\u001b[0m\u001b[0m\n",
      "\u001b[0;32m~/.miniconda36/envs/tp36/lib/python3.6/site-packages/shapely/ops.py\u001b[0m in \u001b[0;36m<listcomp>\u001b[0;34m(.0)\u001b[0m\n\u001b[1;32m    341\u001b[0m         \u001b[0;31m# that's why we test if the original polygon (poly) contains\u001b[0m\u001b[0;34m\u001b[0m\u001b[0;34m\u001b[0m\u001b[0m\n\u001b[1;32m    342\u001b[0m         \u001b[0;31m# an inner point of polygonized geometry (pg)\u001b[0m\u001b[0;34m\u001b[0m\u001b[0;34m\u001b[0m\u001b[0m\n\u001b[0;32m--> 343\u001b[0;31m         \u001b[0;32mreturn\u001b[0m \u001b[0;34m[\u001b[0m\u001b[0mpg\u001b[0m \u001b[0;32mfor\u001b[0m \u001b[0mpg\u001b[0m \u001b[0;32min\u001b[0m \u001b[0mpolygonize\u001b[0m\u001b[0;34m(\u001b[0m\u001b[0munion\u001b[0m\u001b[0;34m)\u001b[0m \u001b[0;32mif\u001b[0m \u001b[0mpoly\u001b[0m\u001b[0;34m.\u001b[0m\u001b[0mcontains\u001b[0m\u001b[0;34m(\u001b[0m\u001b[0mpg\u001b[0m\u001b[0;34m.\u001b[0m\u001b[0mrepresentative_point\u001b[0m\u001b[0;34m(\u001b[0m\u001b[0;34m)\u001b[0m\u001b[0;34m)\u001b[0m\u001b[0;34m]\u001b[0m\u001b[0;34m\u001b[0m\u001b[0m\n\u001b[0m\u001b[1;32m    344\u001b[0m \u001b[0;34m\u001b[0m\u001b[0m\n\u001b[1;32m    345\u001b[0m     \u001b[0;34m@\u001b[0m\u001b[0mstaticmethod\u001b[0m\u001b[0;34m\u001b[0m\u001b[0m\n",
      "\u001b[0;32m~/.miniconda36/envs/tp36/lib/python3.6/site-packages/shapely/impl.py\u001b[0m in \u001b[0;36mwrapper\u001b[0;34m(*args, **kwargs)\u001b[0m\n\u001b[1;32m     35\u001b[0m     \u001b[0;32mdef\u001b[0m \u001b[0mwrapper\u001b[0m\u001b[0;34m(\u001b[0m\u001b[0;34m*\u001b[0m\u001b[0margs\u001b[0m\u001b[0;34m,\u001b[0m \u001b[0;34m**\u001b[0m\u001b[0mkwargs\u001b[0m\u001b[0;34m)\u001b[0m\u001b[0;34m:\u001b[0m\u001b[0;34m\u001b[0m\u001b[0m\n\u001b[1;32m     36\u001b[0m         \u001b[0;32mtry\u001b[0m\u001b[0;34m:\u001b[0m\u001b[0;34m\u001b[0m\u001b[0m\n\u001b[0;32m---> 37\u001b[0;31m             \u001b[0;32mreturn\u001b[0m \u001b[0mfunc\u001b[0m\u001b[0;34m(\u001b[0m\u001b[0;34m*\u001b[0m\u001b[0margs\u001b[0m\u001b[0;34m,\u001b[0m \u001b[0;34m**\u001b[0m\u001b[0mkwargs\u001b[0m\u001b[0;34m)\u001b[0m\u001b[0;34m\u001b[0m\u001b[0m\n\u001b[0m\u001b[1;32m     38\u001b[0m         \u001b[0;32mexcept\u001b[0m \u001b[0mKeyError\u001b[0m\u001b[0;34m:\u001b[0m\u001b[0;34m\u001b[0m\u001b[0m\n\u001b[1;32m     39\u001b[0m             raise ImplementationError(\n",
      "\u001b[0;32m~/.miniconda36/envs/tp36/lib/python3.6/site-packages/shapely/geometry/base.py\u001b[0m in \u001b[0;36mrepresentative_point\u001b[0;34m(self)\u001b[0m\n\u001b[1;32m    474\u001b[0m     \u001b[0;32mdef\u001b[0m \u001b[0mrepresentative_point\u001b[0m\u001b[0;34m(\u001b[0m\u001b[0mself\u001b[0m\u001b[0;34m)\u001b[0m\u001b[0;34m:\u001b[0m\u001b[0;34m\u001b[0m\u001b[0m\n\u001b[1;32m    475\u001b[0m         \u001b[0;34m\"\"\"Returns a point guaranteed to be within the object, cheaply.\"\"\"\u001b[0m\u001b[0;34m\u001b[0m\u001b[0m\n\u001b[0;32m--> 476\u001b[0;31m         \u001b[0;32mreturn\u001b[0m \u001b[0mgeom_factory\u001b[0m\u001b[0;34m(\u001b[0m\u001b[0mself\u001b[0m\u001b[0;34m.\u001b[0m\u001b[0mimpl\u001b[0m\u001b[0;34m[\u001b[0m\u001b[0;34m'representative_point'\u001b[0m\u001b[0;34m]\u001b[0m\u001b[0;34m(\u001b[0m\u001b[0mself\u001b[0m\u001b[0;34m)\u001b[0m\u001b[0;34m)\u001b[0m\u001b[0;34m\u001b[0m\u001b[0m\n\u001b[0m\u001b[1;32m    477\u001b[0m \u001b[0;34m\u001b[0m\u001b[0m\n\u001b[1;32m    478\u001b[0m     \u001b[0;34m@\u001b[0m\u001b[0mproperty\u001b[0m\u001b[0;34m\u001b[0m\u001b[0m\n",
      "\u001b[0;32m~/.miniconda36/envs/tp36/lib/python3.6/site-packages/shapely/geometry/base.py\u001b[0m in \u001b[0;36mgeom_factory\u001b[0;34m(g, parent)\u001b[0m\n\u001b[1;32m     74\u001b[0m     \u001b[0;31m# Abstract geometry factory for use with topological methods below\u001b[0m\u001b[0;34m\u001b[0m\u001b[0;34m\u001b[0m\u001b[0m\n\u001b[1;32m     75\u001b[0m     \u001b[0;32mif\u001b[0m \u001b[0;32mnot\u001b[0m \u001b[0mg\u001b[0m\u001b[0;34m:\u001b[0m\u001b[0;34m\u001b[0m\u001b[0m\n\u001b[0;32m---> 76\u001b[0;31m         \u001b[0;32mraise\u001b[0m \u001b[0mValueError\u001b[0m\u001b[0;34m(\u001b[0m\u001b[0;34m\"No Shapely geometry can be created from null value\"\u001b[0m\u001b[0;34m)\u001b[0m\u001b[0;34m\u001b[0m\u001b[0m\n\u001b[0m\u001b[1;32m     77\u001b[0m     \u001b[0mob\u001b[0m \u001b[0;34m=\u001b[0m \u001b[0mBaseGeometry\u001b[0m\u001b[0;34m(\u001b[0m\u001b[0;34m)\u001b[0m\u001b[0;34m\u001b[0m\u001b[0m\n\u001b[1;32m     78\u001b[0m     \u001b[0mgeom_type\u001b[0m \u001b[0;34m=\u001b[0m \u001b[0mgeometry_type_name\u001b[0m\u001b[0;34m(\u001b[0m\u001b[0mg\u001b[0m\u001b[0;34m)\u001b[0m\u001b[0;34m\u001b[0m\u001b[0m\n",
      "\u001b[0;31mValueError\u001b[0m: No Shapely geometry can be created from null value"
     ]
    }
   ],
   "source": [
    "cut_by_antimeridian(p_off.buffer(1_000_000, geodesic=True)).plot()"
   ]
  },
  {
   "cell_type": "code",
   "execution_count": null,
   "metadata": {},
   "outputs": [],
   "source": []
  },
  {
   "cell_type": "code",
   "execution_count": null,
   "metadata": {},
   "outputs": [],
   "source": []
  },
  {
   "cell_type": "code",
   "execution_count": null,
   "metadata": {},
   "outputs": [],
   "source": []
  },
  {
   "cell_type": "code",
   "execution_count": null,
   "metadata": {},
   "outputs": [],
   "source": []
  },
  {
   "cell_type": "code",
   "execution_count": 13,
   "metadata": {},
   "outputs": [
    {
     "data": {
      "application/vnd.jupyter.widget-view+json": {
       "model_id": "191cf64e16cd418790ad9fc41dfb0a6b",
       "version_major": 2,
       "version_minor": 0
      },
      "text/plain": [
       "Map(basemap={'url': 'http://stamen-tiles-a.a.ssl.fastly.net/terrain/{z}/{x}/{y}.png', 'attribution': 'Map tile…"
      ]
     },
     "metadata": {},
     "output_type": "display_data"
    }
   ],
   "source": [
    "p_center = tl.GeoVector.point(0, 80)\n",
    "p_center.plot()"
   ]
  },
  {
   "cell_type": "code",
   "execution_count": 15,
   "metadata": {},
   "outputs": [
    {
     "data": {
      "application/vnd.jupyter.widget-view+json": {
       "model_id": "5cad7253a03b4f90bfcf9c33837155b2",
       "version_major": 2,
       "version_minor": 0
      },
      "text/plain": [
       "Map(basemap={'url': 'http://stamen-tiles-a.a.ssl.fastly.net/terrain/{z}/{x}/{y}.png', 'attribution': 'Map tile…"
      ]
     },
     "metadata": {},
     "output_type": "display_data"
    }
   ],
   "source": [
    "p_center.buffer(1_000_000, geodesic=True).plot()"
   ]
  },
  {
   "cell_type": "code",
   "execution_count": 20,
   "metadata": {},
   "outputs": [
    {
     "data": {
      "text/html": [
       "<div style=\"width:100%;\"><div style=\"position:relative;width:100%;height:0;padding-bottom:60%;\"><iframe src=\"data:text/html;charset=utf-8;base64,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\" style=\"position:absolute;width:100%;height:100%;left:0;top:0;border:none !important;\" allowfullscreen webkitallowfullscreen mozallowfullscreen></iframe></div></div>"
      ],
      "text/plain": [
       "<folium.folium.Map at 0x7ff3c3496630>"
      ]
     },
     "execution_count": 20,
     "metadata": {},
     "output_type": "execute_result"
    }
   ],
   "source": [
    "simple_plot(p_center.buffer(2_000_000, geodesic=True), crs='EPSG3857')"
   ]
  },
  {
   "cell_type": "code",
   "execution_count": 13,
   "metadata": {},
   "outputs": [
    {
     "data": {
      "text/html": [
       "<div style=\"width:100%;\"><div style=\"position:relative;width:100%;height:0;padding-bottom:60%;\"><iframe src=\"data:text/html;charset=utf-8;base64,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\" style=\"position:absolute;width:100%;height:100%;left:0;top:0;border:none !important;\" allowfullscreen webkitallowfullscreen mozallowfullscreen></iframe></div></div>"
      ],
      "text/plain": [
       "<folium.folium.Map at 0x7ff3c3543940>"
      ]
     },
     "execution_count": 13,
     "metadata": {},
     "output_type": "execute_result"
    }
   ],
   "source": [
    "simple_plot(p_center.buffer(1000000, geodesic=True), crs='EPSG4326')"
   ]
  },
  {
   "cell_type": "code",
   "execution_count": 8,
   "metadata": {},
   "outputs": [],
   "source": [
    "from ipyleaflet import leaflet"
   ]
  },
  {
   "cell_type": "code",
   "execution_count": 3,
   "metadata": {},
   "outputs": [
    {
     "data": {
      "application/vnd.jupyter.widget-view+json": {
       "model_id": "97a0b6d8c9c44898aeafd5a823f84ed8",
       "version_major": 2,
       "version_minor": 0
      },
      "text/plain": [
       "Map(basemap={'url': 'https://{s}.tile.openstreetmap.org/{z}/{x}/{y}.png', 'max_zoom': 19, 'attribution': 'Map …"
      ]
     },
     "metadata": {},
     "output_type": "display_data"
    }
   ],
   "source": [
    "map_from_element(p_center)"
   ]
  },
  {
   "cell_type": "code",
   "execution_count": 4,
   "metadata": {},
   "outputs": [],
   "source": [
    "p_center.plot?"
   ]
  },
  {
   "cell_type": "code",
   "execution_count": 3,
   "metadata": {},
   "outputs": [
    {
     "ename": "ArgumentError",
     "evalue": "argument 6: <class 'TypeError'>: wrong type",
     "output_type": "error",
     "traceback": [
      "\u001b[0;31m---------------------------------------------------------------------------\u001b[0m",
      "\u001b[0;31mArgumentError\u001b[0m                             Traceback (most recent call last)",
      "\u001b[0;32m<ipython-input-3-165bba19389f>\u001b[0m in \u001b[0;36m<module>\u001b[0;34m\u001b[0m\n\u001b[0;32m----> 1\u001b[0;31m \u001b[0mp_center\u001b[0m\u001b[0;34m.\u001b[0m\u001b[0mbuffer\u001b[0m\u001b[0;34m(\u001b[0m\u001b[0;36m20\u001b[0m\u001b[0;34m)\u001b[0m\u001b[0;34m.\u001b[0m\u001b[0mplot\u001b[0m\u001b[0;34m(\u001b[0m\u001b[0;34m)\u001b[0m\u001b[0;34m\u001b[0m\u001b[0m\n\u001b[0m",
      "\u001b[0;32m~/Satellogic/telluric-team/telluric/telluric/vectors.py\u001b[0m in \u001b[0;36mbuffer\u001b[0;34m(self, distance, resolution, cap_style, join_style, mitre_limit, geodesic)\u001b[0m\n\u001b[1;32m    451\u001b[0m         \u001b[0;32melse\u001b[0m\u001b[0;34m:\u001b[0m\u001b[0;34m\u001b[0m\u001b[0m\n\u001b[1;32m    452\u001b[0m             return self.__class__(\n\u001b[0;32m--> 453\u001b[0;31m                 \u001b[0mself\u001b[0m\u001b[0;34m.\u001b[0m\u001b[0m_shape\u001b[0m\u001b[0;34m.\u001b[0m\u001b[0mbuffer\u001b[0m\u001b[0;34m(\u001b[0m\u001b[0mdistance\u001b[0m\u001b[0;34m,\u001b[0m \u001b[0mresolution\u001b[0m\u001b[0;34m,\u001b[0m \u001b[0mcap_style\u001b[0m\u001b[0;34m,\u001b[0m \u001b[0mjoin_style\u001b[0m\u001b[0;34m,\u001b[0m \u001b[0mmitre_limit\u001b[0m\u001b[0;34m)\u001b[0m\u001b[0;34m,\u001b[0m\u001b[0;34m\u001b[0m\u001b[0m\n\u001b[0m\u001b[1;32m    454\u001b[0m                 \u001b[0mself\u001b[0m\u001b[0;34m.\u001b[0m\u001b[0mcrs\u001b[0m\u001b[0;34m\u001b[0m\u001b[0m\n\u001b[1;32m    455\u001b[0m             )\n",
      "\u001b[0;32m~/.miniconda36/envs/tp36/lib/python3.6/site-packages/shapely/geometry/base.py\u001b[0m in \u001b[0;36mbuffer\u001b[0;34m(self, distance, resolution, quadsegs, cap_style, join_style, mitre_limit)\u001b[0m\n\u001b[1;32m    591\u001b[0m                                                            \u001b[0mcap_style\u001b[0m\u001b[0;34m,\u001b[0m\u001b[0;34m\u001b[0m\u001b[0m\n\u001b[1;32m    592\u001b[0m                                                            \u001b[0mjoin_style\u001b[0m\u001b[0;34m,\u001b[0m\u001b[0;34m\u001b[0m\u001b[0m\n\u001b[0;32m--> 593\u001b[0;31m                                                            mitre_limit))\n\u001b[0m\u001b[1;32m    594\u001b[0m \u001b[0;34m\u001b[0m\u001b[0m\n\u001b[1;32m    595\u001b[0m     \u001b[0;34m@\u001b[0m\u001b[0mdelegated\u001b[0m\u001b[0;34m\u001b[0m\u001b[0m\n",
      "\u001b[0;32m~/.miniconda36/envs/tp36/lib/python3.6/site-packages/shapely/topology.py\u001b[0m in \u001b[0;36m__call__\u001b[0;34m(self, this, *args)\u001b[0m\n\u001b[1;32m     76\u001b[0m     \u001b[0;32mdef\u001b[0m \u001b[0m__call__\u001b[0m\u001b[0;34m(\u001b[0m\u001b[0mself\u001b[0m\u001b[0;34m,\u001b[0m \u001b[0mthis\u001b[0m\u001b[0;34m,\u001b[0m \u001b[0;34m*\u001b[0m\u001b[0margs\u001b[0m\u001b[0;34m)\u001b[0m\u001b[0;34m:\u001b[0m\u001b[0;34m\u001b[0m\u001b[0m\n\u001b[1;32m     77\u001b[0m         \u001b[0mself\u001b[0m\u001b[0;34m.\u001b[0m\u001b[0m_validate\u001b[0m\u001b[0;34m(\u001b[0m\u001b[0mthis\u001b[0m\u001b[0;34m)\u001b[0m\u001b[0;34m\u001b[0m\u001b[0m\n\u001b[0;32m---> 78\u001b[0;31m         \u001b[0;32mreturn\u001b[0m \u001b[0mself\u001b[0m\u001b[0;34m.\u001b[0m\u001b[0mfn\u001b[0m\u001b[0;34m(\u001b[0m\u001b[0mthis\u001b[0m\u001b[0;34m.\u001b[0m\u001b[0m_geom\u001b[0m\u001b[0;34m,\u001b[0m \u001b[0;34m*\u001b[0m\u001b[0margs\u001b[0m\u001b[0;34m)\u001b[0m\u001b[0;34m\u001b[0m\u001b[0m\n\u001b[0m",
      "\u001b[0;31mArgumentError\u001b[0m: argument 6: <class 'TypeError'>: wrong type"
     ]
    }
   ],
   "source": [
    "p_center.buffer(20).plot()"
   ]
  },
  {
   "cell_type": "code",
   "execution_count": 6,
   "metadata": {},
   "outputs": [
    {
     "data": {
      "application/vnd.jupyter.widget-view+json": {
       "model_id": "9509ec04cac34acaa8a7b90abb5fa952",
       "version_major": 2,
       "version_minor": 0
      },
      "text/plain": [
       "Map(basemap={'url': 'http://stamen-tiles-a.a.ssl.fastly.net/terrain/{z}/{x}/{y}.png', 'attribution': 'Map tile…"
      ]
     },
     "metadata": {},
     "output_type": "display_data"
    }
   ],
   "source": [
    "p_center.reproject(WEB_MERCATOR_CRS).buffer(1000000).plot()"
   ]
  },
  {
   "cell_type": "code",
   "execution_count": 7,
   "metadata": {},
   "outputs": [
    {
     "ename": "TypeError",
     "evalue": "buffer() got an unexpected keyword argument 'geodesic'",
     "output_type": "error",
     "traceback": [
      "\u001b[0;31m---------------------------------------------------------------------------\u001b[0m",
      "\u001b[0;31mTypeError\u001b[0m                                 Traceback (most recent call last)",
      "\u001b[0;32m<ipython-input-7-c13bc96a851b>\u001b[0m in \u001b[0;36m<module>\u001b[0;34m\u001b[0m\n\u001b[0;32m----> 1\u001b[0;31m \u001b[0mp_center\u001b[0m\u001b[0;34m.\u001b[0m\u001b[0mbuffer\u001b[0m\u001b[0;34m(\u001b[0m\u001b[0;36m1000000\u001b[0m\u001b[0;34m,\u001b[0m \u001b[0mgeodesic\u001b[0m\u001b[0;34m=\u001b[0m\u001b[0;32mTrue\u001b[0m\u001b[0;34m)\u001b[0m\u001b[0;34m\u001b[0m\u001b[0m\n\u001b[0m",
      "\u001b[0;32m~/.miniconda36/envs/tp36/lib/python3.6/site-packages/telluric/vectors.py\u001b[0m in \u001b[0;36mdelegated_operation_special\u001b[0;34m(self_, *args, **kwargs)\u001b[0m\n\u001b[1;32m    243\u001b[0m             \u001b[0;32mdef\u001b[0m \u001b[0mdelegated_operation_special\u001b[0m\u001b[0;34m(\u001b[0m\u001b[0mself_\u001b[0m\u001b[0;34m,\u001b[0m \u001b[0;34m*\u001b[0m\u001b[0margs\u001b[0m\u001b[0;34m,\u001b[0m \u001b[0;34m**\u001b[0m\u001b[0mkwargs\u001b[0m\u001b[0;34m)\u001b[0m\u001b[0;34m:\u001b[0m\u001b[0;34m\u001b[0m\u001b[0m\n\u001b[1;32m    244\u001b[0m                 return self_.__class__(\n\u001b[0;32m--> 245\u001b[0;31m                     \u001b[0mgetattr\u001b[0m\u001b[0;34m(\u001b[0m\u001b[0mself_\u001b[0m\u001b[0;34m.\u001b[0m\u001b[0mget_shape\u001b[0m\u001b[0;34m(\u001b[0m\u001b[0mself_\u001b[0m\u001b[0;34m.\u001b[0m\u001b[0mcrs\u001b[0m\u001b[0;34m)\u001b[0m\u001b[0;34m,\u001b[0m \u001b[0mitem\u001b[0m\u001b[0;34m)\u001b[0m\u001b[0;34m(\u001b[0m\u001b[0;34m*\u001b[0m\u001b[0margs\u001b[0m\u001b[0;34m,\u001b[0m \u001b[0;34m**\u001b[0m\u001b[0mkwargs\u001b[0m\u001b[0;34m)\u001b[0m\u001b[0;34m,\u001b[0m\u001b[0;34m\u001b[0m\u001b[0m\n\u001b[0m\u001b[1;32m    246\u001b[0m                     \u001b[0mself_\u001b[0m\u001b[0;34m.\u001b[0m\u001b[0mcrs\u001b[0m\u001b[0;34m\u001b[0m\u001b[0m\n\u001b[1;32m    247\u001b[0m                 )\n",
      "\u001b[0;31mTypeError\u001b[0m: buffer() got an unexpected keyword argument 'geodesic'"
     ]
    }
   ],
   "source": [
    "p_center.buffer(1000000, geodesic=True)"
   ]
  },
  {
   "cell_type": "code",
   "execution_count": 8,
   "metadata": {},
   "outputs": [
    {
     "name": "stdout",
     "output_type": "stream",
     "text": [
      "> \u001b[0;32m/home/juanlu/.miniconda36/envs/tp36/lib/python3.6/site-packages/telluric/vectors.py\u001b[0m(245)\u001b[0;36mdelegated_operation_special\u001b[0;34m()\u001b[0m\n",
      "\u001b[0;32m    243 \u001b[0;31m            \u001b[0;32mdef\u001b[0m \u001b[0mdelegated_operation_special\u001b[0m\u001b[0;34m(\u001b[0m\u001b[0mself_\u001b[0m\u001b[0;34m,\u001b[0m \u001b[0;34m*\u001b[0m\u001b[0margs\u001b[0m\u001b[0;34m,\u001b[0m \u001b[0;34m**\u001b[0m\u001b[0mkwargs\u001b[0m\u001b[0;34m)\u001b[0m\u001b[0;34m:\u001b[0m\u001b[0;34m\u001b[0m\u001b[0m\n",
      "\u001b[0m\u001b[0;32m    244 \u001b[0;31m                return self_.__class__(\n",
      "\u001b[0m\u001b[0;32m--> 245 \u001b[0;31m                    \u001b[0mgetattr\u001b[0m\u001b[0;34m(\u001b[0m\u001b[0mself_\u001b[0m\u001b[0;34m.\u001b[0m\u001b[0mget_shape\u001b[0m\u001b[0;34m(\u001b[0m\u001b[0mself_\u001b[0m\u001b[0;34m.\u001b[0m\u001b[0mcrs\u001b[0m\u001b[0;34m)\u001b[0m\u001b[0;34m,\u001b[0m \u001b[0mitem\u001b[0m\u001b[0;34m)\u001b[0m\u001b[0;34m(\u001b[0m\u001b[0;34m*\u001b[0m\u001b[0margs\u001b[0m\u001b[0;34m,\u001b[0m \u001b[0;34m**\u001b[0m\u001b[0mkwargs\u001b[0m\u001b[0;34m)\u001b[0m\u001b[0;34m,\u001b[0m\u001b[0;34m\u001b[0m\u001b[0m\n",
      "\u001b[0m\u001b[0;32m    246 \u001b[0;31m                    \u001b[0mself_\u001b[0m\u001b[0;34m.\u001b[0m\u001b[0mcrs\u001b[0m\u001b[0;34m\u001b[0m\u001b[0m\n",
      "\u001b[0m\u001b[0;32m    247 \u001b[0;31m                )\n",
      "\u001b[0m\n",
      "ipdb> p GEOM_UNARY_OPERATIONS\n",
      "['buffer', 'simplify']\n",
      "ipdb> q\n"
     ]
    }
   ],
   "source": [
    "%debug"
   ]
  },
  {
   "cell_type": "code",
   "execution_count": null,
   "metadata": {},
   "outputs": [],
   "source": []
  }
 ],
 "metadata": {
  "kernelspec": {
   "display_name": "Python 3",
   "language": "python",
   "name": "python3"
  },
  "language_info": {
   "codemirror_mode": {
    "name": "ipython",
    "version": 3
   },
   "file_extension": ".py",
   "mimetype": "text/x-python",
   "name": "python",
   "nbconvert_exporter": "python",
   "pygments_lexer": "ipython3",
   "version": "3.6.6"
  }
 },
 "nbformat": 4,
 "nbformat_minor": 2
}
